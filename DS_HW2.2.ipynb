{
 "cells": [
  {
   "cell_type": "markdown",
   "id": "6eb2b944",
   "metadata": {},
   "source": [
    "# Домашня робота 2.2"
   ]
  },
  {
   "cell_type": "code",
   "execution_count": 1,
   "id": "2b6f25a2",
   "metadata": {
    "ExecuteTime": {
     "end_time": "2023-10-28T20:39:09.151785Z",
     "start_time": "2023-10-28T20:39:09.139331Z"
    }
   },
   "outputs": [],
   "source": [
    "import pandas as pd\n",
    "import matplotlib.pyplot as plt\n",
    "import numpy as np\n",
    "import seaborn as sns\n",
    "%matplotlib inline"
   ]
  },
  {
   "cell_type": "markdown",
   "id": "ec58e9e5",
   "metadata": {},
   "source": [
    "### Прочитайте файл 2017_jun_final.csv за допомогою методу read_csv"
   ]
  },
  {
   "cell_type": "code",
   "execution_count": 2,
   "id": "b0a08274",
   "metadata": {
    "ExecuteTime": {
     "end_time": "2023-10-28T20:39:09.282384Z",
     "start_time": "2023-10-28T20:39:09.153939Z"
    }
   },
   "outputs": [
    {
     "data": {
      "text/plain": "   N                 Должность Язык.программирования Специализация  \\\n0  1        Junior QA engineer                   NaN     Manual QA   \n1  2        Junior QA engineer                   NaN     Manual QA   \n2  3         Software Engineer               C#/.NET           NaN   \n3  4         Software Engineer            JavaScript           NaN   \n4  5  Senior Software Engineer            JavaScript           NaN   \n\n  Общий.опыт.работы Опыт.работы.на.текущем.месте  Зарплата.в.месяц  \\\n0               0.5                          0.5               400   \n1  меньше 3 месяцев             меньше 3 месяцев               430   \n2                 4                            1              2500   \n3                 5                            4              2000   \n4    10 и более лет                          0.5              4500   \n\n   Изменение.зарплаты.за.12.месяцев    Город     Размер.компании  ...  \\\n0                                 0  Харьков       до 10 человек  ...   \n1                               130  Харьков  свыше 1000 человек  ...   \n2                               800     Киев     до 1000 человек  ...   \n3                               400   Одесса      до 200 человек  ...   \n4                               500   Другой       до 10 человек  ...   \n\n  Еще.студент Уровень.английского                    Предметная.область  \\\n0        True       ниже среднего                         iOS,eCommerce   \n1        True       выше среднего                        Веб-разработка   \n2       False             средний  Веб-разработка,Корпоративные системы   \n3       False       ниже среднего   Desktop Applications,Веб-разработка   \n4       False             средний   Desktop Applications,Веб-разработка   \n\n       Дата.заполнения                                         User.Agent  \\\n0  12/06/2017 12:38:08  Mozilla/5.0 (Windows NT 10.0; Win64; x64) Appl...   \n1  12/06/2017 12:42:51  Mozilla/5.0 (iPad; CPU OS 10_2_1 like Mac OS X...   \n2  12/06/2017 13:02:47  Mozilla/5.0 (Windows NT 10.0; Win64; x64) Appl...   \n3  12/06/2017 13:03:01  Mozilla/5.0 (Windows NT 6.1; Win64; x64) Apple...   \n4  12/06/2017 13:03:47  Mozilla/5.0 (iPhone; CPU iPhone OS 10_3_2 like...   \n\n    exp current_job_exp salary Валюта  cls  \n0   0.5             0.5    400    NaN   QA  \n1   0.0             0.0    430    NaN   QA  \n2   4.0             1.0   2500    NaN  DEV  \n3   5.0             4.0   2000    NaN  DEV  \n4  10.0             0.5   4500    NaN  DEV  \n\n[5 rows x 25 columns]",
      "text/html": "<div>\n<style scoped>\n    .dataframe tbody tr th:only-of-type {\n        vertical-align: middle;\n    }\n\n    .dataframe tbody tr th {\n        vertical-align: top;\n    }\n\n    .dataframe thead th {\n        text-align: right;\n    }\n</style>\n<table border=\"1\" class=\"dataframe\">\n  <thead>\n    <tr style=\"text-align: right;\">\n      <th></th>\n      <th>N</th>\n      <th>Должность</th>\n      <th>Язык.программирования</th>\n      <th>Специализация</th>\n      <th>Общий.опыт.работы</th>\n      <th>Опыт.работы.на.текущем.месте</th>\n      <th>Зарплата.в.месяц</th>\n      <th>Изменение.зарплаты.за.12.месяцев</th>\n      <th>Город</th>\n      <th>Размер.компании</th>\n      <th>...</th>\n      <th>Еще.студент</th>\n      <th>Уровень.английского</th>\n      <th>Предметная.область</th>\n      <th>Дата.заполнения</th>\n      <th>User.Agent</th>\n      <th>exp</th>\n      <th>current_job_exp</th>\n      <th>salary</th>\n      <th>Валюта</th>\n      <th>cls</th>\n    </tr>\n  </thead>\n  <tbody>\n    <tr>\n      <th>0</th>\n      <td>1</td>\n      <td>Junior QA engineer</td>\n      <td>NaN</td>\n      <td>Manual QA</td>\n      <td>0.5</td>\n      <td>0.5</td>\n      <td>400</td>\n      <td>0</td>\n      <td>Харьков</td>\n      <td>до 10 человек</td>\n      <td>...</td>\n      <td>True</td>\n      <td>ниже среднего</td>\n      <td>iOS,eCommerce</td>\n      <td>12/06/2017 12:38:08</td>\n      <td>Mozilla/5.0 (Windows NT 10.0; Win64; x64) Appl...</td>\n      <td>0.5</td>\n      <td>0.5</td>\n      <td>400</td>\n      <td>NaN</td>\n      <td>QA</td>\n    </tr>\n    <tr>\n      <th>1</th>\n      <td>2</td>\n      <td>Junior QA engineer</td>\n      <td>NaN</td>\n      <td>Manual QA</td>\n      <td>меньше 3 месяцев</td>\n      <td>меньше 3 месяцев</td>\n      <td>430</td>\n      <td>130</td>\n      <td>Харьков</td>\n      <td>свыше 1000 человек</td>\n      <td>...</td>\n      <td>True</td>\n      <td>выше среднего</td>\n      <td>Веб-разработка</td>\n      <td>12/06/2017 12:42:51</td>\n      <td>Mozilla/5.0 (iPad; CPU OS 10_2_1 like Mac OS X...</td>\n      <td>0.0</td>\n      <td>0.0</td>\n      <td>430</td>\n      <td>NaN</td>\n      <td>QA</td>\n    </tr>\n    <tr>\n      <th>2</th>\n      <td>3</td>\n      <td>Software Engineer</td>\n      <td>C#/.NET</td>\n      <td>NaN</td>\n      <td>4</td>\n      <td>1</td>\n      <td>2500</td>\n      <td>800</td>\n      <td>Киев</td>\n      <td>до 1000 человек</td>\n      <td>...</td>\n      <td>False</td>\n      <td>средний</td>\n      <td>Веб-разработка,Корпоративные системы</td>\n      <td>12/06/2017 13:02:47</td>\n      <td>Mozilla/5.0 (Windows NT 10.0; Win64; x64) Appl...</td>\n      <td>4.0</td>\n      <td>1.0</td>\n      <td>2500</td>\n      <td>NaN</td>\n      <td>DEV</td>\n    </tr>\n    <tr>\n      <th>3</th>\n      <td>4</td>\n      <td>Software Engineer</td>\n      <td>JavaScript</td>\n      <td>NaN</td>\n      <td>5</td>\n      <td>4</td>\n      <td>2000</td>\n      <td>400</td>\n      <td>Одесса</td>\n      <td>до 200 человек</td>\n      <td>...</td>\n      <td>False</td>\n      <td>ниже среднего</td>\n      <td>Desktop Applications,Веб-разработка</td>\n      <td>12/06/2017 13:03:01</td>\n      <td>Mozilla/5.0 (Windows NT 6.1; Win64; x64) Apple...</td>\n      <td>5.0</td>\n      <td>4.0</td>\n      <td>2000</td>\n      <td>NaN</td>\n      <td>DEV</td>\n    </tr>\n    <tr>\n      <th>4</th>\n      <td>5</td>\n      <td>Senior Software Engineer</td>\n      <td>JavaScript</td>\n      <td>NaN</td>\n      <td>10 и более лет</td>\n      <td>0.5</td>\n      <td>4500</td>\n      <td>500</td>\n      <td>Другой</td>\n      <td>до 10 человек</td>\n      <td>...</td>\n      <td>False</td>\n      <td>средний</td>\n      <td>Desktop Applications,Веб-разработка</td>\n      <td>12/06/2017 13:03:47</td>\n      <td>Mozilla/5.0 (iPhone; CPU iPhone OS 10_3_2 like...</td>\n      <td>10.0</td>\n      <td>0.5</td>\n      <td>4500</td>\n      <td>NaN</td>\n      <td>DEV</td>\n    </tr>\n  </tbody>\n</table>\n<p>5 rows × 25 columns</p>\n</div>"
     },
     "execution_count": 2,
     "metadata": {},
     "output_type": "execute_result"
    }
   ],
   "source": [
    "data = pd.read_csv('2017_jun_final.csv')\n",
    "\n",
    "data.head()"
   ]
  },
  {
   "cell_type": "markdown",
   "id": "e82e1f55",
   "metadata": {},
   "source": [
    "### Прочитайте отриману таблицю, використовуючи метод head"
   ]
  },
  {
   "cell_type": "code",
   "execution_count": 3,
   "id": "c744f43f",
   "metadata": {
    "ExecuteTime": {
     "end_time": "2023-10-28T20:39:09.458014Z",
     "start_time": "2023-10-28T20:39:09.268049Z"
    }
   },
   "outputs": [
    {
     "data": {
      "text/plain": "   N           Должность Язык.программирования Специализация  \\\n0  1  Junior QA engineer                   NaN     Manual QA   \n1  2  Junior QA engineer                   NaN     Manual QA   \n2  3   Software Engineer               C#/.NET           NaN   \n\n  Общий.опыт.работы Опыт.работы.на.текущем.месте  Зарплата.в.месяц  \\\n0               0.5                          0.5               400   \n1  меньше 3 месяцев             меньше 3 месяцев               430   \n2                 4                            1              2500   \n\n   Изменение.зарплаты.за.12.месяцев    Город     Размер.компании  ...  \\\n0                                 0  Харьков       до 10 человек  ...   \n1                               130  Харьков  свыше 1000 человек  ...   \n2                               800     Киев     до 1000 человек  ...   \n\n  Еще.студент Уровень.английского                    Предметная.область  \\\n0        True       ниже среднего                         iOS,eCommerce   \n1        True       выше среднего                        Веб-разработка   \n2       False             средний  Веб-разработка,Корпоративные системы   \n\n       Дата.заполнения                                         User.Agent  \\\n0  12/06/2017 12:38:08  Mozilla/5.0 (Windows NT 10.0; Win64; x64) Appl...   \n1  12/06/2017 12:42:51  Mozilla/5.0 (iPad; CPU OS 10_2_1 like Mac OS X...   \n2  12/06/2017 13:02:47  Mozilla/5.0 (Windows NT 10.0; Win64; x64) Appl...   \n\n   exp current_job_exp salary Валюта  cls  \n0  0.5             0.5    400    NaN   QA  \n1  0.0             0.0    430    NaN   QA  \n2  4.0             1.0   2500    NaN  DEV  \n\n[3 rows x 25 columns]",
      "text/html": "<div>\n<style scoped>\n    .dataframe tbody tr th:only-of-type {\n        vertical-align: middle;\n    }\n\n    .dataframe tbody tr th {\n        vertical-align: top;\n    }\n\n    .dataframe thead th {\n        text-align: right;\n    }\n</style>\n<table border=\"1\" class=\"dataframe\">\n  <thead>\n    <tr style=\"text-align: right;\">\n      <th></th>\n      <th>N</th>\n      <th>Должность</th>\n      <th>Язык.программирования</th>\n      <th>Специализация</th>\n      <th>Общий.опыт.работы</th>\n      <th>Опыт.работы.на.текущем.месте</th>\n      <th>Зарплата.в.месяц</th>\n      <th>Изменение.зарплаты.за.12.месяцев</th>\n      <th>Город</th>\n      <th>Размер.компании</th>\n      <th>...</th>\n      <th>Еще.студент</th>\n      <th>Уровень.английского</th>\n      <th>Предметная.область</th>\n      <th>Дата.заполнения</th>\n      <th>User.Agent</th>\n      <th>exp</th>\n      <th>current_job_exp</th>\n      <th>salary</th>\n      <th>Валюта</th>\n      <th>cls</th>\n    </tr>\n  </thead>\n  <tbody>\n    <tr>\n      <th>0</th>\n      <td>1</td>\n      <td>Junior QA engineer</td>\n      <td>NaN</td>\n      <td>Manual QA</td>\n      <td>0.5</td>\n      <td>0.5</td>\n      <td>400</td>\n      <td>0</td>\n      <td>Харьков</td>\n      <td>до 10 человек</td>\n      <td>...</td>\n      <td>True</td>\n      <td>ниже среднего</td>\n      <td>iOS,eCommerce</td>\n      <td>12/06/2017 12:38:08</td>\n      <td>Mozilla/5.0 (Windows NT 10.0; Win64; x64) Appl...</td>\n      <td>0.5</td>\n      <td>0.5</td>\n      <td>400</td>\n      <td>NaN</td>\n      <td>QA</td>\n    </tr>\n    <tr>\n      <th>1</th>\n      <td>2</td>\n      <td>Junior QA engineer</td>\n      <td>NaN</td>\n      <td>Manual QA</td>\n      <td>меньше 3 месяцев</td>\n      <td>меньше 3 месяцев</td>\n      <td>430</td>\n      <td>130</td>\n      <td>Харьков</td>\n      <td>свыше 1000 человек</td>\n      <td>...</td>\n      <td>True</td>\n      <td>выше среднего</td>\n      <td>Веб-разработка</td>\n      <td>12/06/2017 12:42:51</td>\n      <td>Mozilla/5.0 (iPad; CPU OS 10_2_1 like Mac OS X...</td>\n      <td>0.0</td>\n      <td>0.0</td>\n      <td>430</td>\n      <td>NaN</td>\n      <td>QA</td>\n    </tr>\n    <tr>\n      <th>2</th>\n      <td>3</td>\n      <td>Software Engineer</td>\n      <td>C#/.NET</td>\n      <td>NaN</td>\n      <td>4</td>\n      <td>1</td>\n      <td>2500</td>\n      <td>800</td>\n      <td>Киев</td>\n      <td>до 1000 человек</td>\n      <td>...</td>\n      <td>False</td>\n      <td>средний</td>\n      <td>Веб-разработка,Корпоративные системы</td>\n      <td>12/06/2017 13:02:47</td>\n      <td>Mozilla/5.0 (Windows NT 10.0; Win64; x64) Appl...</td>\n      <td>4.0</td>\n      <td>1.0</td>\n      <td>2500</td>\n      <td>NaN</td>\n      <td>DEV</td>\n    </tr>\n  </tbody>\n</table>\n<p>3 rows × 25 columns</p>\n</div>"
     },
     "execution_count": 3,
     "metadata": {},
     "output_type": "execute_result"
    }
   ],
   "source": [
    "data.head(3)"
   ]
  },
  {
   "cell_type": "markdown",
   "id": "590ec0a6",
   "metadata": {},
   "source": [
    "### Визначте розмір таблиці за допомогою методу shape"
   ]
  },
  {
   "cell_type": "code",
   "execution_count": 4,
   "id": "2f3bc9e5",
   "metadata": {
    "ExecuteTime": {
     "end_time": "2023-10-28T20:39:09.460375Z",
     "start_time": "2023-10-28T20:39:09.299055Z"
    }
   },
   "outputs": [
    {
     "data": {
      "text/plain": "(8704, 25)"
     },
     "execution_count": 4,
     "metadata": {},
     "output_type": "execute_result"
    }
   ],
   "source": [
    "data.shape"
   ]
  },
  {
   "cell_type": "markdown",
   "id": "ac206696",
   "metadata": {},
   "source": [
    "### Визначте типи всіх стовпців за допомогою dataframe.dtypes"
   ]
  },
  {
   "cell_type": "code",
   "execution_count": 5,
   "id": "3561f8be",
   "metadata": {
    "ExecuteTime": {
     "end_time": "2023-10-28T20:39:09.540813Z",
     "start_time": "2023-10-28T20:39:09.308918Z"
    }
   },
   "outputs": [
    {
     "data": {
      "text/plain": "N                                     int64\nДолжность                            object\nЯзык.программирования                object\nСпециализация                        object\nОбщий.опыт.работы                    object\nОпыт.работы.на.текущем.месте         object\nЗарплата.в.месяц                      int64\nИзменение.зарплаты.за.12.месяцев      int64\nГород                                object\nРазмер.компании                      object\nТип.компании                         object\nПол                                  object\nВозраст                               int64\nОбразование                          object\nУниверситет                          object\nЕще.студент                            bool\nУровень.английского                  object\nПредметная.область                   object\nДата.заполнения                      object\nUser.Agent                           object\nexp                                 float64\ncurrent_job_exp                     float64\nsalary                                int64\nВалюта                               object\ncls                                  object\ndtype: object"
     },
     "execution_count": 5,
     "metadata": {},
     "output_type": "execute_result"
    }
   ],
   "source": [
    "data.dtypes"
   ]
  },
  {
   "cell_type": "markdown",
   "id": "c30cba94",
   "metadata": {},
   "source": [
    "### Порахуйте, яка частка пропусків міститься в кожній колонці (використовуйте методи isnull та sum)"
   ]
  },
  {
   "cell_type": "code",
   "execution_count": 6,
   "id": "3fca1833",
   "metadata": {
    "ExecuteTime": {
     "end_time": "2023-10-28T20:39:09.565350Z",
     "start_time": "2023-10-28T20:39:09.323249Z"
    }
   },
   "outputs": [
    {
     "data": {
      "text/plain": "N                                   0.000000\nДолжность                           0.000000\nЯзык.программирования               0.442325\nСпециализация                       0.829389\nОбщий.опыт.работы                   0.000000\nОпыт.работы.на.текущем.месте        0.000000\nЗарплата.в.месяц                    0.000000\nИзменение.зарплаты.за.12.месяцев    0.000000\nГород                               0.000000\nРазмер.компании                     0.000000\nТип.компании                        0.000000\nПол                                 0.000000\nВозраст                             0.000000\nОбразование                         0.000000\nУниверситет                         0.041131\nЕще.студент                         0.000000\nУровень.английского                 0.000000\nПредметная.область                  0.025620\nДата.заполнения                     0.000000\nUser.Agent                          0.000000\nexp                                 0.000000\ncurrent_job_exp                     0.000000\nsalary                              0.000000\nВалюта                              0.998851\ncls                                 0.180836\ndtype: float64"
     },
     "execution_count": 6,
     "metadata": {},
     "output_type": "execute_result"
    }
   ],
   "source": [
    "data.isnull().sum()/len(data)"
   ]
  },
  {
   "cell_type": "markdown",
   "id": "aea071f7",
   "metadata": {},
   "source": [
    "### Видаліть усі стовпці з пропусками, крім стовпця \"Мова програмування\""
   ]
  },
  {
   "cell_type": "code",
   "execution_count": 7,
   "id": "006d79d3",
   "metadata": {
    "ExecuteTime": {
     "end_time": "2023-10-28T20:39:09.565681Z",
     "start_time": "2023-10-28T20:39:09.334165Z"
    }
   },
   "outputs": [],
   "source": [
    "# data['Язык.программирования'] = data['Язык.программирования'].fillna(1)\n",
    "# data.isnull().sum()\n",
    "# data = data.drop(columns=['Специализация', 'Университет', 'Предметная.область', 'Валюта', 'cls' ])"
   ]
  },
  {
   "cell_type": "markdown",
   "id": "4c3792ae",
   "metadata": {},
   "source": [
    "### Видаліть усі рядки у вихідній таблиці за допомогою методу dropna"
   ]
  },
  {
   "cell_type": "code",
   "execution_count": 8,
   "id": "3f13370b",
   "metadata": {
    "ExecuteTime": {
     "end_time": "2023-10-28T20:39:09.609956Z",
     "start_time": "2023-10-28T20:39:09.342785Z"
    }
   },
   "outputs": [
    {
     "data": {
      "text/plain": "Empty DataFrame\nColumns: [N, Должность, Язык.программирования, Специализация, Общий.опыт.работы, Опыт.работы.на.текущем.месте, Зарплата.в.месяц, Изменение.зарплаты.за.12.месяцев, Город, Размер.компании, Тип.компании, Пол, Возраст, Образование, Университет, Еще.студент, Уровень.английского, Предметная.область, Дата.заполнения, User.Agent, exp, current_job_exp, salary, Валюта, cls]\nIndex: []\n\n[0 rows x 25 columns]",
      "text/html": "<div>\n<style scoped>\n    .dataframe tbody tr th:only-of-type {\n        vertical-align: middle;\n    }\n\n    .dataframe tbody tr th {\n        vertical-align: top;\n    }\n\n    .dataframe thead th {\n        text-align: right;\n    }\n</style>\n<table border=\"1\" class=\"dataframe\">\n  <thead>\n    <tr style=\"text-align: right;\">\n      <th></th>\n      <th>N</th>\n      <th>Должность</th>\n      <th>Язык.программирования</th>\n      <th>Специализация</th>\n      <th>Общий.опыт.работы</th>\n      <th>Опыт.работы.на.текущем.месте</th>\n      <th>Зарплата.в.месяц</th>\n      <th>Изменение.зарплаты.за.12.месяцев</th>\n      <th>Город</th>\n      <th>Размер.компании</th>\n      <th>...</th>\n      <th>Еще.студент</th>\n      <th>Уровень.английского</th>\n      <th>Предметная.область</th>\n      <th>Дата.заполнения</th>\n      <th>User.Agent</th>\n      <th>exp</th>\n      <th>current_job_exp</th>\n      <th>salary</th>\n      <th>Валюта</th>\n      <th>cls</th>\n    </tr>\n  </thead>\n  <tbody>\n  </tbody>\n</table>\n<p>0 rows × 25 columns</p>\n</div>"
     },
     "execution_count": 8,
     "metadata": {},
     "output_type": "execute_result"
    }
   ],
   "source": [
    "data.replace(1, np.nan, inplace=True)\n",
    "data.dropna(inplace=True)\n",
    "data"
   ]
  },
  {
   "cell_type": "markdown",
   "id": "9dfdf09b",
   "metadata": {},
   "source": [
    "### Визначте новий розмір таблиці за допомогою методу shape"
   ]
  },
  {
   "cell_type": "code",
   "execution_count": 9,
   "id": "0efad84a",
   "metadata": {
    "ExecuteTime": {
     "end_time": "2023-10-28T20:39:09.610258Z",
     "start_time": "2023-10-28T20:39:09.372094Z"
    }
   },
   "outputs": [
    {
     "data": {
      "text/plain": "(0, 25)"
     },
     "execution_count": 9,
     "metadata": {},
     "output_type": "execute_result"
    }
   ],
   "source": [
    "data.shape"
   ]
  },
  {
   "cell_type": "markdown",
   "id": "bddc9bbc",
   "metadata": {},
   "source": [
    "### Створіть нову таблицю python_data, в якій будуть тільки рядки зі спеціалістами, які вказали мову програмування Python"
   ]
  },
  {
   "cell_type": "code",
   "execution_count": 10,
   "id": "c21f7444",
   "metadata": {
    "ExecuteTime": {
     "end_time": "2023-10-28T20:39:09.610710Z",
     "start_time": "2023-10-28T20:39:09.379302Z"
    }
   },
   "outputs": [
    {
     "data": {
      "text/plain": "Empty DataFrame\nColumns: [N, Должность, Язык.программирования, Специализация, Общий.опыт.работы, Опыт.работы.на.текущем.месте, Зарплата.в.месяц, Изменение.зарплаты.за.12.месяцев, Город, Размер.компании, Тип.компании, Пол, Возраст, Образование, Университет, Еще.студент, Уровень.английского, Предметная.область, Дата.заполнения, User.Agent, exp, current_job_exp, salary, Валюта, cls]\nIndex: []\n\n[0 rows x 25 columns]",
      "text/html": "<div>\n<style scoped>\n    .dataframe tbody tr th:only-of-type {\n        vertical-align: middle;\n    }\n\n    .dataframe tbody tr th {\n        vertical-align: top;\n    }\n\n    .dataframe thead th {\n        text-align: right;\n    }\n</style>\n<table border=\"1\" class=\"dataframe\">\n  <thead>\n    <tr style=\"text-align: right;\">\n      <th></th>\n      <th>N</th>\n      <th>Должность</th>\n      <th>Язык.программирования</th>\n      <th>Специализация</th>\n      <th>Общий.опыт.работы</th>\n      <th>Опыт.работы.на.текущем.месте</th>\n      <th>Зарплата.в.месяц</th>\n      <th>Изменение.зарплаты.за.12.месяцев</th>\n      <th>Город</th>\n      <th>Размер.компании</th>\n      <th>...</th>\n      <th>Еще.студент</th>\n      <th>Уровень.английского</th>\n      <th>Предметная.область</th>\n      <th>Дата.заполнения</th>\n      <th>User.Agent</th>\n      <th>exp</th>\n      <th>current_job_exp</th>\n      <th>salary</th>\n      <th>Валюта</th>\n      <th>cls</th>\n    </tr>\n  </thead>\n  <tbody>\n  </tbody>\n</table>\n<p>0 rows × 25 columns</p>\n</div>"
     },
     "execution_count": 10,
     "metadata": {},
     "output_type": "execute_result"
    }
   ],
   "source": [
    "data1 = data[data[\"Язык.программирования\"] == \"Python\"]\n",
    "data1"
   ]
  },
  {
   "cell_type": "markdown",
   "id": "629f0605",
   "metadata": {},
   "source": [
    "### Визначте розмір таблиці python_data за допомогою методу shapef"
   ]
  },
  {
   "cell_type": "code",
   "execution_count": 11,
   "id": "57a8006a",
   "metadata": {
    "ExecuteTime": {
     "end_time": "2023-10-28T20:39:09.611185Z",
     "start_time": "2023-10-28T20:39:09.393385Z"
    }
   },
   "outputs": [
    {
     "data": {
      "text/plain": "(0, 25)"
     },
     "execution_count": 11,
     "metadata": {},
     "output_type": "execute_result"
    }
   ],
   "source": [
    "data1.shape"
   ]
  },
  {
   "cell_type": "markdown",
   "id": "92f86e59",
   "metadata": {},
   "source": [
    "### Використовуючи метод groupby, виконайте групування за стовпчиком \"Посада\""
   ]
  },
  {
   "cell_type": "code",
   "execution_count": 12,
   "id": "e9c42f9a",
   "metadata": {
    "ExecuteTime": {
     "end_time": "2023-10-28T20:39:09.611455Z",
     "start_time": "2023-10-28T20:39:09.401406Z"
    }
   },
   "outputs": [
    {
     "name": "stdout",
     "output_type": "stream",
     "text": [
      "Empty DataFrame\n",
      "Columns: [N, Должность, Язык.программирования, Специализация, Общий.опыт.работы, Опыт.работы.на.текущем.месте, Зарплата.в.месяц, Изменение.зарплаты.за.12.месяцев, Город, Размер.компании, Тип.компании, Пол, Возраст, Образование, Университет, Еще.студент, Уровень.английского, Предметная.область, Дата.заполнения, User.Agent, exp, current_job_exp, salary, Валюта, cls]\n",
      "Index: []\n",
      "\n",
      "[0 rows x 25 columns]\n"
     ]
    }
   ],
   "source": [
    "#data1 = data1.groupby(\"Должность\", as_index=False)\n",
    "print(data1)"
   ]
  },
  {
   "cell_type": "markdown",
   "id": "7484471e",
   "metadata": {},
   "source": [
    "### Створіть новий DataFrame, де для згрупованих даних за стовпчиком \"Посада\", виконайте агрегацію даних за допомогою методу agg і знайдіть мінімальне та максимальне значення у стовпчику \"Зарплата.в.місяць\""
   ]
  },
  {
   "cell_type": "code",
   "execution_count": 13,
   "id": "52e1a696",
   "metadata": {
    "ExecuteTime": {
     "end_time": "2023-10-28T20:39:09.611988Z",
     "start_time": "2023-10-28T20:39:09.410517Z"
    }
   },
   "outputs": [
    {
     "name": "stderr",
     "output_type": "stream",
     "text": [
      "/var/folders/qp/bpgbj2092t5g67w5y7fhq5mh0000gp/T/ipykernel_46783/3538467678.py:1: FutureWarning: The provided callable <function min at 0x105d313f0> is currently using Series.min. In a future version of pandas, the provided callable will be used directly. To keep current behavior pass the string \"min\" instead.\n",
      "  salary = data1.agg({'Зарплата.в.месяц': (np.min, np.max)})\n",
      "/var/folders/qp/bpgbj2092t5g67w5y7fhq5mh0000gp/T/ipykernel_46783/3538467678.py:1: FutureWarning: The provided callable <function max at 0x105d312d0> is currently using Series.max. In a future version of pandas, the provided callable will be used directly. To keep current behavior pass the string \"max\" instead.\n",
      "  salary = data1.agg({'Зарплата.в.месяц': (np.min, np.max)})\n"
     ]
    },
    {
     "data": {
      "text/plain": "     Зарплата.в.месяц\nmin               NaN\nmax               NaN",
      "text/html": "<div>\n<style scoped>\n    .dataframe tbody tr th:only-of-type {\n        vertical-align: middle;\n    }\n\n    .dataframe tbody tr th {\n        vertical-align: top;\n    }\n\n    .dataframe thead th {\n        text-align: right;\n    }\n</style>\n<table border=\"1\" class=\"dataframe\">\n  <thead>\n    <tr style=\"text-align: right;\">\n      <th></th>\n      <th>Зарплата.в.месяц</th>\n    </tr>\n  </thead>\n  <tbody>\n    <tr>\n      <th>min</th>\n      <td>NaN</td>\n    </tr>\n    <tr>\n      <th>max</th>\n      <td>NaN</td>\n    </tr>\n  </tbody>\n</table>\n</div>"
     },
     "execution_count": 13,
     "metadata": {},
     "output_type": "execute_result"
    }
   ],
   "source": [
    "salary = data1.agg({'Зарплата.в.месяц': (np.min, np.max)})\n",
    "salary"
   ]
  },
  {
   "cell_type": "markdown",
   "id": "71fc65e6",
   "metadata": {},
   "source": [
    "### Створіть функцію fill_avg_salary, яка повертатиме середнє значення заробітної плати на місяць. Використовуйте її для методу apply та створіть новий стовпчик \"avg\""
   ]
  },
  {
   "cell_type": "code",
   "execution_count": 14,
   "id": "ca693407",
   "metadata": {
    "ExecuteTime": {
     "end_time": "2023-10-28T20:39:10.676482Z",
     "start_time": "2023-10-28T20:39:09.417370Z"
    }
   },
   "outputs": [
    {
     "ename": "IndexError",
     "evalue": "invalid index to scalar variable.",
     "output_type": "error",
     "traceback": [
      "\u001B[0;31m---------------------------------------------------------------------------\u001B[0m",
      "\u001B[0;31mIndexError\u001B[0m                                Traceback (most recent call last)",
      "Cell \u001B[0;32mIn[14], line 4\u001B[0m\n\u001B[1;32m      1\u001B[0m \u001B[38;5;28;01mdef\u001B[39;00m \u001B[38;5;21mfill_avg_salary\u001B[39m(row):\n\u001B[1;32m      2\u001B[0m   \u001B[38;5;28;01mreturn\u001B[39;00m np\u001B[38;5;241m.\u001B[39maverage([row[\u001B[38;5;124m'\u001B[39m\u001B[38;5;124mЗарплата.в.месяц\u001B[39m\u001B[38;5;124m'\u001B[39m][\u001B[38;5;124m'\u001B[39m\u001B[38;5;124mamin\u001B[39m\u001B[38;5;124m'\u001B[39m], row[\u001B[38;5;124m'\u001B[39m\u001B[38;5;124mЗарплата.в.месяц\u001B[39m\u001B[38;5;124m'\u001B[39m][\u001B[38;5;124m'\u001B[39m\u001B[38;5;124mamax\u001B[39m\u001B[38;5;124m'\u001B[39m]])\n\u001B[0;32m----> 4\u001B[0m salary[\u001B[38;5;124m'\u001B[39m\u001B[38;5;124mavg\u001B[39m\u001B[38;5;124m'\u001B[39m] \u001B[38;5;241m=\u001B[39m \u001B[43msalary\u001B[49m\u001B[38;5;241;43m.\u001B[39;49m\u001B[43mapply\u001B[49m\u001B[43m(\u001B[49m\u001B[43mfill_avg_salary\u001B[49m\u001B[43m,\u001B[49m\u001B[43m \u001B[49m\u001B[43maxis\u001B[49m\u001B[38;5;241;43m=\u001B[39;49m\u001B[38;5;241;43m1\u001B[39;49m\u001B[43m)\u001B[49m\n\u001B[1;32m      5\u001B[0m salary\u001B[38;5;241m.\u001B[39msort_values(\u001B[38;5;124m'\u001B[39m\u001B[38;5;124mavg\u001B[39m\u001B[38;5;124m'\u001B[39m, ascending\u001B[38;5;241m=\u001B[39m\u001B[38;5;28;01mFalse\u001B[39;00m)\n",
      "File \u001B[0;32m~/Library/Caches/pypoetry/virtualenvs/ds-hw-2-A5HTGqPj-py3.10/lib/python3.10/site-packages/pandas/core/frame.py:10037\u001B[0m, in \u001B[0;36mDataFrame.apply\u001B[0;34m(self, func, axis, raw, result_type, args, by_row, **kwargs)\u001B[0m\n\u001B[1;32m  10025\u001B[0m \u001B[38;5;28;01mfrom\u001B[39;00m \u001B[38;5;21;01mpandas\u001B[39;00m\u001B[38;5;21;01m.\u001B[39;00m\u001B[38;5;21;01mcore\u001B[39;00m\u001B[38;5;21;01m.\u001B[39;00m\u001B[38;5;21;01mapply\u001B[39;00m \u001B[38;5;28;01mimport\u001B[39;00m frame_apply\n\u001B[1;32m  10027\u001B[0m op \u001B[38;5;241m=\u001B[39m frame_apply(\n\u001B[1;32m  10028\u001B[0m     \u001B[38;5;28mself\u001B[39m,\n\u001B[1;32m  10029\u001B[0m     func\u001B[38;5;241m=\u001B[39mfunc,\n\u001B[0;32m   (...)\u001B[0m\n\u001B[1;32m  10035\u001B[0m     kwargs\u001B[38;5;241m=\u001B[39mkwargs,\n\u001B[1;32m  10036\u001B[0m )\n\u001B[0;32m> 10037\u001B[0m \u001B[38;5;28;01mreturn\u001B[39;00m \u001B[43mop\u001B[49m\u001B[38;5;241;43m.\u001B[39;49m\u001B[43mapply\u001B[49m\u001B[43m(\u001B[49m\u001B[43m)\u001B[49m\u001B[38;5;241m.\u001B[39m__finalize__(\u001B[38;5;28mself\u001B[39m, method\u001B[38;5;241m=\u001B[39m\u001B[38;5;124m\"\u001B[39m\u001B[38;5;124mapply\u001B[39m\u001B[38;5;124m\"\u001B[39m)\n",
      "File \u001B[0;32m~/Library/Caches/pypoetry/virtualenvs/ds-hw-2-A5HTGqPj-py3.10/lib/python3.10/site-packages/pandas/core/apply.py:837\u001B[0m, in \u001B[0;36mFrameApply.apply\u001B[0;34m(self)\u001B[0m\n\u001B[1;32m    834\u001B[0m \u001B[38;5;28;01melif\u001B[39;00m \u001B[38;5;28mself\u001B[39m\u001B[38;5;241m.\u001B[39mraw:\n\u001B[1;32m    835\u001B[0m     \u001B[38;5;28;01mreturn\u001B[39;00m \u001B[38;5;28mself\u001B[39m\u001B[38;5;241m.\u001B[39mapply_raw()\n\u001B[0;32m--> 837\u001B[0m \u001B[38;5;28;01mreturn\u001B[39;00m \u001B[38;5;28;43mself\u001B[39;49m\u001B[38;5;241;43m.\u001B[39;49m\u001B[43mapply_standard\u001B[49m\u001B[43m(\u001B[49m\u001B[43m)\u001B[49m\n",
      "File \u001B[0;32m~/Library/Caches/pypoetry/virtualenvs/ds-hw-2-A5HTGqPj-py3.10/lib/python3.10/site-packages/pandas/core/apply.py:963\u001B[0m, in \u001B[0;36mFrameApply.apply_standard\u001B[0;34m(self)\u001B[0m\n\u001B[1;32m    962\u001B[0m \u001B[38;5;28;01mdef\u001B[39;00m \u001B[38;5;21mapply_standard\u001B[39m(\u001B[38;5;28mself\u001B[39m):\n\u001B[0;32m--> 963\u001B[0m     results, res_index \u001B[38;5;241m=\u001B[39m \u001B[38;5;28;43mself\u001B[39;49m\u001B[38;5;241;43m.\u001B[39;49m\u001B[43mapply_series_generator\u001B[49m\u001B[43m(\u001B[49m\u001B[43m)\u001B[49m\n\u001B[1;32m    965\u001B[0m     \u001B[38;5;66;03m# wrap results\u001B[39;00m\n\u001B[1;32m    966\u001B[0m     \u001B[38;5;28;01mreturn\u001B[39;00m \u001B[38;5;28mself\u001B[39m\u001B[38;5;241m.\u001B[39mwrap_results(results, res_index)\n",
      "File \u001B[0;32m~/Library/Caches/pypoetry/virtualenvs/ds-hw-2-A5HTGqPj-py3.10/lib/python3.10/site-packages/pandas/core/apply.py:979\u001B[0m, in \u001B[0;36mFrameApply.apply_series_generator\u001B[0;34m(self)\u001B[0m\n\u001B[1;32m    976\u001B[0m \u001B[38;5;28;01mwith\u001B[39;00m option_context(\u001B[38;5;124m\"\u001B[39m\u001B[38;5;124mmode.chained_assignment\u001B[39m\u001B[38;5;124m\"\u001B[39m, \u001B[38;5;28;01mNone\u001B[39;00m):\n\u001B[1;32m    977\u001B[0m     \u001B[38;5;28;01mfor\u001B[39;00m i, v \u001B[38;5;129;01min\u001B[39;00m \u001B[38;5;28menumerate\u001B[39m(series_gen):\n\u001B[1;32m    978\u001B[0m         \u001B[38;5;66;03m# ignore SettingWithCopy here in case the user mutates\u001B[39;00m\n\u001B[0;32m--> 979\u001B[0m         results[i] \u001B[38;5;241m=\u001B[39m \u001B[38;5;28;43mself\u001B[39;49m\u001B[38;5;241;43m.\u001B[39;49m\u001B[43mfunc\u001B[49m\u001B[43m(\u001B[49m\u001B[43mv\u001B[49m\u001B[43m,\u001B[49m\u001B[43m \u001B[49m\u001B[38;5;241;43m*\u001B[39;49m\u001B[38;5;28;43mself\u001B[39;49m\u001B[38;5;241;43m.\u001B[39;49m\u001B[43margs\u001B[49m\u001B[43m,\u001B[49m\u001B[43m \u001B[49m\u001B[38;5;241;43m*\u001B[39;49m\u001B[38;5;241;43m*\u001B[39;49m\u001B[38;5;28;43mself\u001B[39;49m\u001B[38;5;241;43m.\u001B[39;49m\u001B[43mkwargs\u001B[49m\u001B[43m)\u001B[49m\n\u001B[1;32m    980\u001B[0m         \u001B[38;5;28;01mif\u001B[39;00m \u001B[38;5;28misinstance\u001B[39m(results[i], ABCSeries):\n\u001B[1;32m    981\u001B[0m             \u001B[38;5;66;03m# If we have a view on v, we need to make a copy because\u001B[39;00m\n\u001B[1;32m    982\u001B[0m             \u001B[38;5;66;03m#  series_generator will swap out the underlying data\u001B[39;00m\n\u001B[1;32m    983\u001B[0m             results[i] \u001B[38;5;241m=\u001B[39m results[i]\u001B[38;5;241m.\u001B[39mcopy(deep\u001B[38;5;241m=\u001B[39m\u001B[38;5;28;01mFalse\u001B[39;00m)\n",
      "Cell \u001B[0;32mIn[14], line 2\u001B[0m, in \u001B[0;36mfill_avg_salary\u001B[0;34m(row)\u001B[0m\n\u001B[1;32m      1\u001B[0m \u001B[38;5;28;01mdef\u001B[39;00m \u001B[38;5;21mfill_avg_salary\u001B[39m(row):\n\u001B[0;32m----> 2\u001B[0m   \u001B[38;5;28;01mreturn\u001B[39;00m np\u001B[38;5;241m.\u001B[39maverage([\u001B[43mrow\u001B[49m\u001B[43m[\u001B[49m\u001B[38;5;124;43m'\u001B[39;49m\u001B[38;5;124;43mЗарплата.в.месяц\u001B[39;49m\u001B[38;5;124;43m'\u001B[39;49m\u001B[43m]\u001B[49m\u001B[43m[\u001B[49m\u001B[38;5;124;43m'\u001B[39;49m\u001B[38;5;124;43mamin\u001B[39;49m\u001B[38;5;124;43m'\u001B[39;49m\u001B[43m]\u001B[49m, row[\u001B[38;5;124m'\u001B[39m\u001B[38;5;124mЗарплата.в.месяц\u001B[39m\u001B[38;5;124m'\u001B[39m][\u001B[38;5;124m'\u001B[39m\u001B[38;5;124mamax\u001B[39m\u001B[38;5;124m'\u001B[39m]])\n",
      "\u001B[0;31mIndexError\u001B[0m: invalid index to scalar variable."
     ]
    }
   ],
   "source": [
    "def fill_avg_salary(row):\n",
    "  return np.average([row['Зарплата.в.месяц']['amin'], row['Зарплата.в.месяц']['amax']])\n",
    "\n",
    "salary['avg'] = salary.apply(fill_avg_salary, axis=1)\n",
    "salary.sort_values('avg', ascending=False)"
   ]
  },
  {
   "cell_type": "markdown",
   "id": "8a640430",
   "metadata": {},
   "source": [
    "### Створіть описову статистику за допомогою методу describe для нового стовпчика."
   ]
  },
  {
   "cell_type": "code",
   "execution_count": null,
   "id": "6ee5a201",
   "metadata": {
    "ExecuteTime": {
     "start_time": "2023-10-28T20:39:10.354378Z"
    }
   },
   "outputs": [],
   "source": [
    " salary['avg'].describe()"
   ]
  },
  {
   "cell_type": "markdown",
   "id": "adb72f0b",
   "metadata": {},
   "source": [
    "### Збережіть отриману таблицю в CSV файл"
   ]
  },
  {
   "cell_type": "code",
   "execution_count": null,
   "id": "429d7562",
   "metadata": {
    "ExecuteTime": {
     "start_time": "2023-10-28T20:39:10.357866Z"
    }
   },
   "outputs": [],
   "source": [
    "salary.to_csv(\"salary.csv\", index=False)"
   ]
  },
  {
   "cell_type": "markdown",
   "id": "b013733e",
   "metadata": {},
   "source": [
    "# Графіки"
   ]
  },
  {
   "cell_type": "code",
   "execution_count": null,
   "id": "e6bc3f75",
   "metadata": {
    "ExecuteTime": {
     "start_time": "2023-10-28T20:39:10.361772Z"
    }
   },
   "outputs": [],
   "source": [
    "sns.boxplot(x='Город', y='Зарплата.в.месяц', data=data)\n",
    "plt.xlabel('Город')\n",
    "plt.ylabel('Зарплата в месяц')\n",
    "plt.title('Распределение зарплат по городам')\n",
    "plt.xticks(rotation=90)\n",
    "plt.show()"
   ]
  },
  {
   "cell_type": "code",
   "execution_count": null,
   "id": "4b7eb6e1",
   "metadata": {
    "ExecuteTime": {
     "start_time": "2023-10-28T20:39:10.365222Z"
    }
   },
   "outputs": [],
   "source": [
    "sns.scatterplot(x='Общий.опыт.работы', y='Изменение.зарплаты.за.12.месяцев', data=data)\n",
    "plt.xlabel('Общий опыт работы (лет)')\n",
    "plt.ylabel('Изменение зарплаты за 12 месяцев')\n",
    "plt.title('Зависимость изменения зарплаты от опыта работы')\n",
    "plt.show()"
   ]
  },
  {
   "cell_type": "code",
   "execution_count": null,
   "id": "f21ff47a",
   "metadata": {
    "ExecuteTime": {
     "start_time": "2023-10-28T20:39:10.367787Z"
    }
   },
   "outputs": [],
   "source": [
    "sns.histplot(data=data, x='Зарплата.в.месяц', kde=True)\n",
    "plt.xlabel('Зарплата в месяц')\n",
    "plt.ylabel('Частота')\n",
    "plt.title('Распределение зарплат в месяц')\n",
    "plt.show()"
   ]
  }
 ],
 "metadata": {
  "kernelspec": {
   "display_name": "Python 3 (ipykernel)",
   "language": "python",
   "name": "python3"
  },
  "language_info": {
   "codemirror_mode": {
    "name": "ipython",
    "version": 3
   },
   "file_extension": ".py",
   "mimetype": "text/x-python",
   "name": "python",
   "nbconvert_exporter": "python",
   "pygments_lexer": "ipython3",
   "version": "3.9.7"
  }
 },
 "nbformat": 4,
 "nbformat_minor": 5
}
