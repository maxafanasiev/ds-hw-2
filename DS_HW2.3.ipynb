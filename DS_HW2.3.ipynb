{
 "cells": [
  {
   "cell_type": "markdown",
   "id": "0cf8190a",
   "metadata": {},
   "source": [
    "# Домашня робота 2.3"
   ]
  },
  {
   "cell_type": "code",
   "execution_count": 2,
   "id": "c6def921",
   "metadata": {
    "ExecuteTime": {
     "end_time": "2023-10-28T20:06:23.562058Z",
     "start_time": "2023-10-28T20:06:22.535596Z"
    }
   },
   "outputs": [],
   "source": [
    "import pandas as pd\n",
    "import matplotlib.pyplot as plt\n",
    "%matplotlib inline"
   ]
  },
  {
   "cell_type": "markdown",
   "id": "49b6b1e3",
   "metadata": {},
   "source": [
    "### Прочитайте csv файл (використовуйте функцію read_csv)"
   ]
  },
  {
   "cell_type": "code",
   "execution_count": 3,
   "id": "cea7f22c",
   "metadata": {
    "ExecuteTime": {
     "end_time": "2023-10-28T20:06:23.618996Z",
     "start_time": "2023-10-28T20:06:22.608603Z"
    }
   },
   "outputs": [
    {
     "data": {
      "text/plain": "                                                  Name  \\\n0                        10-Day Green Smoothie Cleanse   \n1                                    11/22/63: A Novel   \n2              12 Rules for Life: An Antidote to Chaos   \n3                               1984 (Signet Classics)   \n4    5,000 Awesome Facts (About Everything!) (Natio...   \n..                                                 ...   \n545       Wrecking Ball (Diary of a Wimpy Kid Book 14)   \n546  You Are a Badass: How to Stop Doubting Your Gr...   \n547  You Are a Badass: How to Stop Doubting Your Gr...   \n548  You Are a Badass: How to Stop Doubting Your Gr...   \n549  You Are a Badass: How to Stop Doubting Your Gr...   \n\n                       Author  User Rating  Reviews  Price  Year        Genre  \n0                    JJ Smith          4.7    17350      8  2016  Non Fiction  \n1                Stephen King          4.6     2052     22  2011      Fiction  \n2          Jordan B. Peterson          4.7    18979     15  2018  Non Fiction  \n3               George Orwell          4.7    21424      6  2017      Fiction  \n4    National Geographic Kids          4.8     7665     12  2019  Non Fiction  \n..                        ...          ...      ...    ...   ...          ...  \n545               Jeff Kinney          4.9     9413      8  2019      Fiction  \n546               Jen Sincero          4.7    14331      8  2016  Non Fiction  \n547               Jen Sincero          4.7    14331      8  2017  Non Fiction  \n548               Jen Sincero          4.7    14331      8  2018  Non Fiction  \n549               Jen Sincero          4.7    14331      8  2019  Non Fiction  \n\n[550 rows x 7 columns]",
      "text/html": "<div>\n<style scoped>\n    .dataframe tbody tr th:only-of-type {\n        vertical-align: middle;\n    }\n\n    .dataframe tbody tr th {\n        vertical-align: top;\n    }\n\n    .dataframe thead th {\n        text-align: right;\n    }\n</style>\n<table border=\"1\" class=\"dataframe\">\n  <thead>\n    <tr style=\"text-align: right;\">\n      <th></th>\n      <th>Name</th>\n      <th>Author</th>\n      <th>User Rating</th>\n      <th>Reviews</th>\n      <th>Price</th>\n      <th>Year</th>\n      <th>Genre</th>\n    </tr>\n  </thead>\n  <tbody>\n    <tr>\n      <th>0</th>\n      <td>10-Day Green Smoothie Cleanse</td>\n      <td>JJ Smith</td>\n      <td>4.7</td>\n      <td>17350</td>\n      <td>8</td>\n      <td>2016</td>\n      <td>Non Fiction</td>\n    </tr>\n    <tr>\n      <th>1</th>\n      <td>11/22/63: A Novel</td>\n      <td>Stephen King</td>\n      <td>4.6</td>\n      <td>2052</td>\n      <td>22</td>\n      <td>2011</td>\n      <td>Fiction</td>\n    </tr>\n    <tr>\n      <th>2</th>\n      <td>12 Rules for Life: An Antidote to Chaos</td>\n      <td>Jordan B. Peterson</td>\n      <td>4.7</td>\n      <td>18979</td>\n      <td>15</td>\n      <td>2018</td>\n      <td>Non Fiction</td>\n    </tr>\n    <tr>\n      <th>3</th>\n      <td>1984 (Signet Classics)</td>\n      <td>George Orwell</td>\n      <td>4.7</td>\n      <td>21424</td>\n      <td>6</td>\n      <td>2017</td>\n      <td>Fiction</td>\n    </tr>\n    <tr>\n      <th>4</th>\n      <td>5,000 Awesome Facts (About Everything!) (Natio...</td>\n      <td>National Geographic Kids</td>\n      <td>4.8</td>\n      <td>7665</td>\n      <td>12</td>\n      <td>2019</td>\n      <td>Non Fiction</td>\n    </tr>\n    <tr>\n      <th>...</th>\n      <td>...</td>\n      <td>...</td>\n      <td>...</td>\n      <td>...</td>\n      <td>...</td>\n      <td>...</td>\n      <td>...</td>\n    </tr>\n    <tr>\n      <th>545</th>\n      <td>Wrecking Ball (Diary of a Wimpy Kid Book 14)</td>\n      <td>Jeff Kinney</td>\n      <td>4.9</td>\n      <td>9413</td>\n      <td>8</td>\n      <td>2019</td>\n      <td>Fiction</td>\n    </tr>\n    <tr>\n      <th>546</th>\n      <td>You Are a Badass: How to Stop Doubting Your Gr...</td>\n      <td>Jen Sincero</td>\n      <td>4.7</td>\n      <td>14331</td>\n      <td>8</td>\n      <td>2016</td>\n      <td>Non Fiction</td>\n    </tr>\n    <tr>\n      <th>547</th>\n      <td>You Are a Badass: How to Stop Doubting Your Gr...</td>\n      <td>Jen Sincero</td>\n      <td>4.7</td>\n      <td>14331</td>\n      <td>8</td>\n      <td>2017</td>\n      <td>Non Fiction</td>\n    </tr>\n    <tr>\n      <th>548</th>\n      <td>You Are a Badass: How to Stop Doubting Your Gr...</td>\n      <td>Jen Sincero</td>\n      <td>4.7</td>\n      <td>14331</td>\n      <td>8</td>\n      <td>2018</td>\n      <td>Non Fiction</td>\n    </tr>\n    <tr>\n      <th>549</th>\n      <td>You Are a Badass: How to Stop Doubting Your Gr...</td>\n      <td>Jen Sincero</td>\n      <td>4.7</td>\n      <td>14331</td>\n      <td>8</td>\n      <td>2019</td>\n      <td>Non Fiction</td>\n    </tr>\n  </tbody>\n</table>\n<p>550 rows × 7 columns</p>\n</div>"
     },
     "execution_count": 3,
     "metadata": {},
     "output_type": "execute_result"
    }
   ],
   "source": [
    "data = pd.read_csv(\"bestsellers with categories.csv\")\n",
    "data"
   ]
  },
  {
   "cell_type": "markdown",
   "id": "694ce658",
   "metadata": {},
   "source": [
    "### Виведіть перші п'ять рядків (використовується функція head)"
   ]
  },
  {
   "cell_type": "code",
   "execution_count": 4,
   "id": "f158dc72",
   "metadata": {
    "ExecuteTime": {
     "end_time": "2023-10-28T20:06:23.688283Z",
     "start_time": "2023-10-28T20:06:22.637585Z"
    }
   },
   "outputs": [
    {
     "data": {
      "text/plain": "                                                Name  \\\n0                      10-Day Green Smoothie Cleanse   \n1                                  11/22/63: A Novel   \n2            12 Rules for Life: An Antidote to Chaos   \n3                             1984 (Signet Classics)   \n4  5,000 Awesome Facts (About Everything!) (Natio...   \n\n                     Author  User Rating  Reviews  Price  Year        Genre  \n0                  JJ Smith          4.7    17350      8  2016  Non Fiction  \n1              Stephen King          4.6     2052     22  2011      Fiction  \n2        Jordan B. Peterson          4.7    18979     15  2018  Non Fiction  \n3             George Orwell          4.7    21424      6  2017      Fiction  \n4  National Geographic Kids          4.8     7665     12  2019  Non Fiction  ",
      "text/html": "<div>\n<style scoped>\n    .dataframe tbody tr th:only-of-type {\n        vertical-align: middle;\n    }\n\n    .dataframe tbody tr th {\n        vertical-align: top;\n    }\n\n    .dataframe thead th {\n        text-align: right;\n    }\n</style>\n<table border=\"1\" class=\"dataframe\">\n  <thead>\n    <tr style=\"text-align: right;\">\n      <th></th>\n      <th>Name</th>\n      <th>Author</th>\n      <th>User Rating</th>\n      <th>Reviews</th>\n      <th>Price</th>\n      <th>Year</th>\n      <th>Genre</th>\n    </tr>\n  </thead>\n  <tbody>\n    <tr>\n      <th>0</th>\n      <td>10-Day Green Smoothie Cleanse</td>\n      <td>JJ Smith</td>\n      <td>4.7</td>\n      <td>17350</td>\n      <td>8</td>\n      <td>2016</td>\n      <td>Non Fiction</td>\n    </tr>\n    <tr>\n      <th>1</th>\n      <td>11/22/63: A Novel</td>\n      <td>Stephen King</td>\n      <td>4.6</td>\n      <td>2052</td>\n      <td>22</td>\n      <td>2011</td>\n      <td>Fiction</td>\n    </tr>\n    <tr>\n      <th>2</th>\n      <td>12 Rules for Life: An Antidote to Chaos</td>\n      <td>Jordan B. Peterson</td>\n      <td>4.7</td>\n      <td>18979</td>\n      <td>15</td>\n      <td>2018</td>\n      <td>Non Fiction</td>\n    </tr>\n    <tr>\n      <th>3</th>\n      <td>1984 (Signet Classics)</td>\n      <td>George Orwell</td>\n      <td>4.7</td>\n      <td>21424</td>\n      <td>6</td>\n      <td>2017</td>\n      <td>Fiction</td>\n    </tr>\n    <tr>\n      <th>4</th>\n      <td>5,000 Awesome Facts (About Everything!) (Natio...</td>\n      <td>National Geographic Kids</td>\n      <td>4.8</td>\n      <td>7665</td>\n      <td>12</td>\n      <td>2019</td>\n      <td>Non Fiction</td>\n    </tr>\n  </tbody>\n</table>\n</div>"
     },
     "execution_count": 4,
     "metadata": {},
     "output_type": "execute_result"
    }
   ],
   "source": [
    "data.head(5)"
   ]
  },
  {
   "cell_type": "markdown",
   "id": "2823a7c8",
   "metadata": {},
   "source": [
    "### Виведіть розміри датасету (використовуйте атрибут shape)"
   ]
  },
  {
   "cell_type": "code",
   "execution_count": 5,
   "id": "df574e67",
   "metadata": {
    "ExecuteTime": {
     "end_time": "2023-10-28T20:06:23.690695Z",
     "start_time": "2023-10-28T20:06:22.646752Z"
    }
   },
   "outputs": [
    {
     "data": {
      "text/plain": "(550, 7)"
     },
     "execution_count": 5,
     "metadata": {},
     "output_type": "execute_result"
    }
   ],
   "source": [
    "data.shape"
   ]
  },
  {
   "cell_type": "markdown",
   "id": "eb33b6e7",
   "metadata": {},
   "source": [
    "Відповідь: Про скільки книг зберігає дані датасет?   550 "
   ]
  },
  {
   "cell_type": "markdown",
   "id": "0f4e163a",
   "metadata": {},
   "source": [
    "#### Для спрощення подальшої роботи підправимо назви змінних. Тут усі назви починаються з великої літери, а одна - навіть містить пробіл. Це небажано і може бути незручним. Приведемо до нижнього регістру, а пробіл замінимо на нижнє підкреслення (snake_case)."
   ]
  },
  {
   "cell_type": "code",
   "execution_count": 6,
   "id": "9d2d2a49",
   "metadata": {
    "ExecuteTime": {
     "end_time": "2023-10-28T20:06:23.792970Z",
     "start_time": "2023-10-28T20:06:22.661465Z"
    }
   },
   "outputs": [
    {
     "data": {
      "text/plain": "                                                  name  \\\n0                        10-Day Green Smoothie Cleanse   \n1                                    11/22/63: A Novel   \n2              12 Rules for Life: An Antidote to Chaos   \n3                               1984 (Signet Classics)   \n4    5,000 Awesome Facts (About Everything!) (Natio...   \n..                                                 ...   \n545       Wrecking Ball (Diary of a Wimpy Kid Book 14)   \n546  You Are a Badass: How to Stop Doubting Your Gr...   \n547  You Are a Badass: How to Stop Doubting Your Gr...   \n548  You Are a Badass: How to Stop Doubting Your Gr...   \n549  You Are a Badass: How to Stop Doubting Your Gr...   \n\n                       author  user_rating  reviews  price  year        genre  \n0                    JJ Smith          4.7    17350      8  2016  Non Fiction  \n1                Stephen King          4.6     2052     22  2011      Fiction  \n2          Jordan B. Peterson          4.7    18979     15  2018  Non Fiction  \n3               George Orwell          4.7    21424      6  2017      Fiction  \n4    National Geographic Kids          4.8     7665     12  2019  Non Fiction  \n..                        ...          ...      ...    ...   ...          ...  \n545               Jeff Kinney          4.9     9413      8  2019      Fiction  \n546               Jen Sincero          4.7    14331      8  2016  Non Fiction  \n547               Jen Sincero          4.7    14331      8  2017  Non Fiction  \n548               Jen Sincero          4.7    14331      8  2018  Non Fiction  \n549               Jen Sincero          4.7    14331      8  2019  Non Fiction  \n\n[550 rows x 7 columns]",
      "text/html": "<div>\n<style scoped>\n    .dataframe tbody tr th:only-of-type {\n        vertical-align: middle;\n    }\n\n    .dataframe tbody tr th {\n        vertical-align: top;\n    }\n\n    .dataframe thead th {\n        text-align: right;\n    }\n</style>\n<table border=\"1\" class=\"dataframe\">\n  <thead>\n    <tr style=\"text-align: right;\">\n      <th></th>\n      <th>name</th>\n      <th>author</th>\n      <th>user_rating</th>\n      <th>reviews</th>\n      <th>price</th>\n      <th>year</th>\n      <th>genre</th>\n    </tr>\n  </thead>\n  <tbody>\n    <tr>\n      <th>0</th>\n      <td>10-Day Green Smoothie Cleanse</td>\n      <td>JJ Smith</td>\n      <td>4.7</td>\n      <td>17350</td>\n      <td>8</td>\n      <td>2016</td>\n      <td>Non Fiction</td>\n    </tr>\n    <tr>\n      <th>1</th>\n      <td>11/22/63: A Novel</td>\n      <td>Stephen King</td>\n      <td>4.6</td>\n      <td>2052</td>\n      <td>22</td>\n      <td>2011</td>\n      <td>Fiction</td>\n    </tr>\n    <tr>\n      <th>2</th>\n      <td>12 Rules for Life: An Antidote to Chaos</td>\n      <td>Jordan B. Peterson</td>\n      <td>4.7</td>\n      <td>18979</td>\n      <td>15</td>\n      <td>2018</td>\n      <td>Non Fiction</td>\n    </tr>\n    <tr>\n      <th>3</th>\n      <td>1984 (Signet Classics)</td>\n      <td>George Orwell</td>\n      <td>4.7</td>\n      <td>21424</td>\n      <td>6</td>\n      <td>2017</td>\n      <td>Fiction</td>\n    </tr>\n    <tr>\n      <th>4</th>\n      <td>5,000 Awesome Facts (About Everything!) (Natio...</td>\n      <td>National Geographic Kids</td>\n      <td>4.8</td>\n      <td>7665</td>\n      <td>12</td>\n      <td>2019</td>\n      <td>Non Fiction</td>\n    </tr>\n    <tr>\n      <th>...</th>\n      <td>...</td>\n      <td>...</td>\n      <td>...</td>\n      <td>...</td>\n      <td>...</td>\n      <td>...</td>\n      <td>...</td>\n    </tr>\n    <tr>\n      <th>545</th>\n      <td>Wrecking Ball (Diary of a Wimpy Kid Book 14)</td>\n      <td>Jeff Kinney</td>\n      <td>4.9</td>\n      <td>9413</td>\n      <td>8</td>\n      <td>2019</td>\n      <td>Fiction</td>\n    </tr>\n    <tr>\n      <th>546</th>\n      <td>You Are a Badass: How to Stop Doubting Your Gr...</td>\n      <td>Jen Sincero</td>\n      <td>4.7</td>\n      <td>14331</td>\n      <td>8</td>\n      <td>2016</td>\n      <td>Non Fiction</td>\n    </tr>\n    <tr>\n      <th>547</th>\n      <td>You Are a Badass: How to Stop Doubting Your Gr...</td>\n      <td>Jen Sincero</td>\n      <td>4.7</td>\n      <td>14331</td>\n      <td>8</td>\n      <td>2017</td>\n      <td>Non Fiction</td>\n    </tr>\n    <tr>\n      <th>548</th>\n      <td>You Are a Badass: How to Stop Doubting Your Gr...</td>\n      <td>Jen Sincero</td>\n      <td>4.7</td>\n      <td>14331</td>\n      <td>8</td>\n      <td>2018</td>\n      <td>Non Fiction</td>\n    </tr>\n    <tr>\n      <th>549</th>\n      <td>You Are a Badass: How to Stop Doubting Your Gr...</td>\n      <td>Jen Sincero</td>\n      <td>4.7</td>\n      <td>14331</td>\n      <td>8</td>\n      <td>2019</td>\n      <td>Non Fiction</td>\n    </tr>\n  </tbody>\n</table>\n<p>550 rows × 7 columns</p>\n</div>"
     },
     "execution_count": 6,
     "metadata": {},
     "output_type": "execute_result"
    }
   ],
   "source": [
    "data.rename(\n",
    "    columns={\n",
    "        \"Name\": \"name\",\n",
    "        \"Author\": \"author\",\n",
    "        \"User Rating\": \"user_rating\",\n",
    "        \"Reviews\": \"reviews\",\n",
    "        \"Price\": \"price\",\n",
    "        \"Year\": \"year\",\n",
    "        \"Genre\": \"genre\",\n",
    "    }\n",
    ")\n",
    "data"
   ]
  },
  {
   "cell_type": "markdown",
   "id": "475ace06",
   "metadata": {},
   "source": [
    "### Перевірте, чи у всіх рядків вистачає даних: виведіть кількість пропусків (na) у кожному зі стовпців (використовуйте функції isna та sum)"
   ]
  },
  {
   "cell_type": "code",
   "execution_count": 7,
   "id": "ab678da7",
   "metadata": {
    "ExecuteTime": {
     "end_time": "2023-10-28T20:06:23.801196Z",
     "start_time": "2023-10-28T20:06:22.668062Z"
    }
   },
   "outputs": [
    {
     "data": {
      "text/plain": "name           0\nauthor         0\nuser_rating    0\nreviews        0\nprice          0\nyear           0\ngenre          0\ndtype: int64"
     },
     "execution_count": 7,
     "metadata": {},
     "output_type": "execute_result"
    }
   ],
   "source": [
    "data.isna().sum(axis=0)"
   ]
  },
  {
   "cell_type": "markdown",
   "id": "55c0cae3",
   "metadata": {},
   "source": [
    "Відповідь: Чи є в якихось змінних пропуски? (Так / ні) NO"
   ]
  },
  {
   "cell_type": "markdown",
   "id": "f60d6a75",
   "metadata": {},
   "source": [
    "### Перевірте, які є унікальні значення в колонці genre (використовуйте функцію unique) "
   ]
  },
  {
   "cell_type": "code",
   "execution_count": 8,
   "id": "4c74177f",
   "metadata": {
    "ExecuteTime": {
     "end_time": "2023-10-28T20:06:23.864604Z",
     "start_time": "2023-10-28T20:06:22.678265Z"
    }
   },
   "outputs": [
    {
     "data": {
      "text/plain": "array(['Non Fiction', 'Fiction'], dtype=object)"
     },
     "execution_count": 8,
     "metadata": {},
     "output_type": "execute_result"
    }
   ],
   "source": [
    "data['Genre'].unique()"
   ]
  },
  {
   "cell_type": "markdown",
   "id": "ca402ac7",
   "metadata": {},
   "source": [
    "Відповідь: Які є унікальні жанри? 'Non Fiction', 'Fiction'"
   ]
  },
  {
   "cell_type": "markdown",
   "id": "b9f448ff",
   "metadata": {},
   "source": [
    "### Тепер подивіться на розподіл цін: побудуйте діаграму (використовуйте kind='hist')"
   ]
  },
  {
   "cell_type": "code",
   "execution_count": 9,
   "id": "89a61971",
   "metadata": {
    "ExecuteTime": {
     "end_time": "2023-10-28T20:06:24.430540Z",
     "start_time": "2023-10-28T20:06:22.685186Z"
    }
   },
   "outputs": [
    {
     "data": {
      "text/plain": "<Figure size 640x480 with 1 Axes>",
      "image/png": "[encoded data removed]"
     },
     "metadata": {},
     "output_type": "display_data"
    }
   ],
   "source": [
    "plot = data[\"Price\"].plot(kind='hist', bins=30, linewidth=0.5, edgecolor=\"white\", grid=True)\n",
    "\n",
    "plt.show()"
   ]
  },
  {
   "cell_type": "markdown",
   "id": "5f246ffe",
   "metadata": {},
   "source": [
    "### Визначте, яка ціна у нас максимальна, мінімальна, середня, медіанна (використовуйте функції max, min, mean, median)"
   ]
  },
  {
   "cell_type": "code",
   "execution_count": 10,
   "id": "4449fd19",
   "metadata": {
    "ExecuteTime": {
     "end_time": "2023-10-28T20:06:24.431432Z",
     "start_time": "2023-10-28T20:06:23.080236Z"
    }
   },
   "outputs": [
    {
     "name": "stdout",
     "output_type": "stream",
     "text": [
      "MAX: 105\n",
      "MIN: 0\n",
      "MEAN: 13.1\n",
      "MEDIAN: 11.0\n"
     ]
    }
   ],
   "source": [
    "print(f\"MAX: {data['Price'].max()}\")\n",
    "print(f\"MIN: {data['Price'].min()}\")\n",
    "print(f\"MEAN: {data['Price'].mean()}\")\n",
    "print(f\"MEDIAN: {data['Price'].median()}\")"
   ]
  },
  {
   "cell_type": "markdown",
   "id": "086d7412",
   "metadata": {},
   "source": [
    "#### Який рейтинг у датасеті найвищий? Відповідь: 4.9"
   ]
  },
  {
   "cell_type": "code",
   "execution_count": 11,
   "id": "e290ca10",
   "metadata": {
    "ExecuteTime": {
     "end_time": "2023-10-28T20:06:24.432537Z",
     "start_time": "2023-10-28T20:06:23.093689Z"
    }
   },
   "outputs": [
    {
     "data": {
      "text/plain": "4.9"
     },
     "execution_count": 11,
     "metadata": {},
     "output_type": "execute_result"
    }
   ],
   "source": [
    "data['User Rating'].max()"
   ]
  },
  {
   "cell_type": "markdown",
   "id": "300a2737",
   "metadata": {},
   "source": [
    "#### Скільки книг мають такий рейтинг? Відповідь: 28"
   ]
  },
  {
   "cell_type": "code",
   "execution_count": 38,
   "id": "272668ef",
   "metadata": {
    "ExecuteTime": {
     "end_time": "2023-10-28T20:30:02.124295Z",
     "start_time": "2023-10-28T20:30:02.017825Z"
    }
   },
   "outputs": [
    {
     "data": {
      "text/plain": "(28,)"
     },
     "execution_count": 38,
     "metadata": {},
     "output_type": "execute_result"
    }
   ],
   "source": [
    "data['Name'][data['User Rating'] == data['User Rating'].max()].unique().shape\n"
   ]
  },
  {
   "cell_type": "markdown",
   "id": "75ba46db",
   "metadata": {},
   "source": [
    "#### Яка книга має найбільше відгуків? Відповідь: Where the Crawdads Sing\tDelia Owens\t"
   ]
  },
  {
   "cell_type": "code",
   "execution_count": 13,
   "id": "ec7a994c",
   "metadata": {
    "ExecuteTime": {
     "end_time": "2023-10-28T20:06:24.434769Z",
     "start_time": "2023-10-28T20:06:23.118898Z"
    }
   },
   "outputs": [
    {
     "data": {
      "text/plain": "                        name       author  user_rating  reviews  price  year  \\\n534  Where the Crawdads Sing  Delia Owens          4.8    87841     15  2019   \n\n       genre  \n534  Fiction  ",
      "text/html": "<div>\n<style scoped>\n    .dataframe tbody tr th:only-of-type {\n        vertical-align: middle;\n    }\n\n    .dataframe tbody tr th {\n        vertical-align: top;\n    }\n\n    .dataframe thead th {\n        text-align: right;\n    }\n</style>\n<table border=\"1\" class=\"dataframe\">\n  <thead>\n    <tr style=\"text-align: right;\">\n      <th></th>\n      <th>name</th>\n      <th>author</th>\n      <th>user_rating</th>\n      <th>reviews</th>\n      <th>price</th>\n      <th>year</th>\n      <th>genre</th>\n    </tr>\n  </thead>\n  <tbody>\n    <tr>\n      <th>534</th>\n      <td>Where the Crawdads Sing</td>\n      <td>Delia Owens</td>\n      <td>4.8</td>\n      <td>87841</td>\n      <td>15</td>\n      <td>2019</td>\n      <td>Fiction</td>\n    </tr>\n  </tbody>\n</table>\n</div>"
     },
     "execution_count": 13,
     "metadata": {},
     "output_type": "execute_result"
    }
   ],
   "source": [
    "data[data['Reviews'] == data['Reviews'].max()]"
   ]
  },
  {
   "cell_type": "markdown",
   "id": "3fd4f752",
   "metadata": {},
   "source": [
    "#### З тих книг, що потрапили до Топ-50 у 2015 році, яка книга найдорожча (можна використати проміжний датафрейм)? Відповідь: Publication Manual of the American Psychological Association, 6th Edition"
   ]
  },
  {
   "cell_type": "code",
   "execution_count": 14,
   "id": "68462f5e",
   "metadata": {
    "ExecuteTime": {
     "end_time": "2023-10-28T20:06:24.449376Z",
     "start_time": "2023-10-28T20:06:23.132484Z"
    }
   },
   "outputs": [
    {
     "data": {
      "text/plain": "                                                  name  \\\n277  Publication Manual of the American Psychologic...   \n\n                                 author  user_rating  reviews  price  year  \\\n277  American Psychological Association          4.5     8580     46  2015   \n\n           genre  \n277  Non Fiction  ",
      "text/html": "<div>\n<style scoped>\n    .dataframe tbody tr th:only-of-type {\n        vertical-align: middle;\n    }\n\n    .dataframe tbody tr th {\n        vertical-align: top;\n    }\n\n    .dataframe thead th {\n        text-align: right;\n    }\n</style>\n<table border=\"1\" class=\"dataframe\">\n  <thead>\n    <tr style=\"text-align: right;\">\n      <th></th>\n      <th>name</th>\n      <th>author</th>\n      <th>user_rating</th>\n      <th>reviews</th>\n      <th>price</th>\n      <th>year</th>\n      <th>genre</th>\n    </tr>\n  </thead>\n  <tbody>\n    <tr>\n      <th>277</th>\n      <td>Publication Manual of the American Psychologic...</td>\n      <td>American Psychological Association</td>\n      <td>4.5</td>\n      <td>8580</td>\n      <td>46</td>\n      <td>2015</td>\n      <td>Non Fiction</td>\n    </tr>\n  </tbody>\n</table>\n</div>"
     },
     "execution_count": 14,
     "metadata": {},
     "output_type": "execute_result"
    }
   ],
   "source": [
    "data2015 = data[data['Year'] == 2015]\n",
    "res = data2015[(data2015['Price'] == data2015['Price'].max()) ]\n",
    "res"
   ]
  },
  {
   "cell_type": "markdown",
   "id": "fcc1c091",
   "metadata": {},
   "source": [
    "#### Скільки книг жанру Fiction потрапили до Топ-50 у 2010 році (використовуйте &)? "
   ]
  },
  {
   "cell_type": "code",
   "execution_count": 15,
   "id": "1eb486b9",
   "metadata": {
    "ExecuteTime": {
     "end_time": "2023-10-28T20:06:24.451033Z",
     "start_time": "2023-10-28T20:06:23.140600Z"
    }
   },
   "outputs": [
    {
     "data": {
      "text/plain": "(20, 7)"
     },
     "execution_count": 15,
     "metadata": {},
     "output_type": "execute_result"
    }
   ],
   "source": [
    "data[(data['Year'] == 2010) & (data['Genre'] == 'Fiction')].shape"
   ]
  },
  {
   "cell_type": "markdown",
   "id": "594b19f1",
   "metadata": {},
   "source": [
    "#### Скільки книг з рейтингом 4.9 потрапило до рейтингу у 2010 та 2011 роках (використовуйте | або функцію isin)? Відповідь:"
   ]
  },
  {
   "cell_type": "code",
   "execution_count": 43,
   "id": "79c24119",
   "metadata": {
    "ExecuteTime": {
     "end_time": "2023-10-28T20:32:06.749858Z",
     "start_time": "2023-10-28T20:32:06.548141Z"
    }
   },
   "outputs": [
    {
     "data": {
      "text/plain": "name           1\nauthor         1\nuser_rating    1\nreviews        1\nprice          1\ndtype: int64"
     },
     "execution_count": 43,
     "metadata": {},
     "output_type": "execute_result"
    }
   ],
   "source": [
    "data[((data['Year'] == 2010) | (data['Year'] == 2011)) & (data['User Rating'] == 4.9)].shape"
   ]
  },
  {
   "cell_type": "markdown",
   "id": "1ad55ab0",
   "metadata": {},
   "source": [
    "#### І насамкінець, давайте відсортуємо за зростанням ціни всі книги, які потрапили до рейтингу в 2015 році і коштують дешевше за 8 доларів (використовуйте функцію sort_values)."
   ]
  },
  {
   "cell_type": "code",
   "execution_count": 17,
   "id": "ad56fd8a",
   "metadata": {
    "ExecuteTime": {
     "end_time": "2023-10-28T20:06:24.453141Z",
     "start_time": "2023-10-28T20:06:23.162769Z"
    }
   },
   "outputs": [
    {
     "data": {
      "text/plain": "name           To Kill a Mockingbird\nauthor                    Harper Lee\nuser_rating                      4.8\nreviews                        26234\nprice                              0\nyear                            2015\ngenre                        Fiction\nName: 507, dtype: object"
     },
     "execution_count": 17,
     "metadata": {},
     "output_type": "execute_result"
    }
   ],
   "source": [
    "data[(data['Year'] == 2015) & (data['Price'] < 8)].sort_values('Price', ascending=False).iloc[-1]"
   ]
  },
  {
   "cell_type": "markdown",
   "id": "a5f8c168",
   "metadata": {},
   "source": [
    "#### Для початку давайте подивимося на максимальну та мінімальну ціни для кожного з жанрів (використовуйте функції groupby та agg, для підрахунку мінімальних та максимальних значень використовуйте max та min). Не беріть усі стовпці, виберіть тільки потрібні вам"
   ]
  },
  {
   "cell_type": "code",
   "execution_count": 18,
   "id": "f885118e",
   "metadata": {
    "ExecuteTime": {
     "end_time": "2023-10-28T20:06:24.456295Z",
     "start_time": "2023-10-28T20:06:23.175896Z"
    }
   },
   "outputs": [
    {
     "data": {
      "text/plain": "         genre price    \n                 max min\n0      Fiction    82   0\n1  Non Fiction   105   0",
      "text/html": "<div>\n<style scoped>\n    .dataframe tbody tr th:only-of-type {\n        vertical-align: middle;\n    }\n\n    .dataframe tbody tr th {\n        vertical-align: top;\n    }\n\n    .dataframe thead tr th {\n        text-align: left;\n    }\n</style>\n<table border=\"1\" class=\"dataframe\">\n  <thead>\n    <tr>\n      <th></th>\n      <th>genre</th>\n      <th colspan=\"2\" halign=\"left\">price</th>\n    </tr>\n    <tr>\n      <th></th>\n      <th></th>\n      <th>max</th>\n      <th>min</th>\n    </tr>\n  </thead>\n  <tbody>\n    <tr>\n      <th>0</th>\n      <td>Fiction</td>\n      <td>82</td>\n      <td>0</td>\n    </tr>\n    <tr>\n      <th>1</th>\n      <td>Non Fiction</td>\n      <td>105</td>\n      <td>0</td>\n    </tr>\n  </tbody>\n</table>\n</div>"
     },
     "execution_count": 18,
     "metadata": {},
     "output_type": "execute_result"
    }
   ],
   "source": [
    "data1 = data.groupby(\"Genre\", as_index=False).agg({\"Price\": [\"max\", \"min\"]})\n",
    "data1"
   ]
  },
  {
   "cell_type": "code",
   "execution_count": 19,
   "id": "c4d9e0c8",
   "metadata": {
    "ExecuteTime": {
     "end_time": "2023-10-28T20:06:24.457112Z",
     "start_time": "2023-10-28T20:06:23.187992Z"
    }
   },
   "outputs": [
    {
     "name": "stdout",
     "output_type": "stream",
     "text": [
      "MAX Fiction:82\n",
      "MIN Fiction:  0\n",
      "MAX Non Fiction: 105\n",
      "MIN Non Fiction:  0\n"
     ]
    }
   ],
   "source": [
    "print(f\"MAX Fiction:{data1.loc[0]['Price']['max']}\")\n",
    "print(f\"MIN Fiction:  {data1.loc[0]['Price']['min']}\")\n",
    "print(f\"MAX Non Fiction: {data1.loc[1]['Price']['max']}\")\n",
    "print(f\"MIN Non Fiction:  {data1.loc[1]['Price']['min']}\")"
   ]
  },
  {
   "cell_type": "markdown",
   "id": "f554c134",
   "metadata": {},
   "source": [
    "#### Тепер створіть новий датафрейм, який вміщатиме кількість книг для кожного з авторів (використовуйте функції groupby та agg, для підрахунку кількості використовуйте count). Не беріть усі стовпці, виберете тільки потрібні"
   ]
  },
  {
   "cell_type": "code",
   "execution_count": 20,
   "id": "c2d11603",
   "metadata": {
    "ExecuteTime": {
     "end_time": "2023-10-28T20:06:24.457850Z",
     "start_time": "2023-10-28T20:06:23.200003Z"
    }
   },
   "outputs": [
    {
     "data": {
      "text/plain": "                                 author  number_of_book\n135                         Julia Child               1\n1                        Adam Gasiewski               1\n2                         Adam Mansbach               1\n3                             Adir Levy               1\n4            Admiral William H. McRaven               1\n..                                  ...             ...\n11   American Psychological Association              10\n197                        Rick Riordan              11\n92                         Gary Chapman              11\n226                     Suzanne Collins              11\n120                         Jeff Kinney              12\n\n[248 rows x 2 columns]",
      "text/html": "<div>\n<style scoped>\n    .dataframe tbody tr th:only-of-type {\n        vertical-align: middle;\n    }\n\n    .dataframe tbody tr th {\n        vertical-align: top;\n    }\n\n    .dataframe thead th {\n        text-align: right;\n    }\n</style>\n<table border=\"1\" class=\"dataframe\">\n  <thead>\n    <tr style=\"text-align: right;\">\n      <th></th>\n      <th>author</th>\n      <th>number_of_book</th>\n    </tr>\n  </thead>\n  <tbody>\n    <tr>\n      <th>135</th>\n      <td>Julia Child</td>\n      <td>1</td>\n    </tr>\n    <tr>\n      <th>1</th>\n      <td>Adam Gasiewski</td>\n      <td>1</td>\n    </tr>\n    <tr>\n      <th>2</th>\n      <td>Adam Mansbach</td>\n      <td>1</td>\n    </tr>\n    <tr>\n      <th>3</th>\n      <td>Adir Levy</td>\n      <td>1</td>\n    </tr>\n    <tr>\n      <th>4</th>\n      <td>Admiral William H. McRaven</td>\n      <td>1</td>\n    </tr>\n    <tr>\n      <th>...</th>\n      <td>...</td>\n      <td>...</td>\n    </tr>\n    <tr>\n      <th>11</th>\n      <td>American Psychological Association</td>\n      <td>10</td>\n    </tr>\n    <tr>\n      <th>197</th>\n      <td>Rick Riordan</td>\n      <td>11</td>\n    </tr>\n    <tr>\n      <th>92</th>\n      <td>Gary Chapman</td>\n      <td>11</td>\n    </tr>\n    <tr>\n      <th>226</th>\n      <td>Suzanne Collins</td>\n      <td>11</td>\n    </tr>\n    <tr>\n      <th>120</th>\n      <td>Jeff Kinney</td>\n      <td>12</td>\n    </tr>\n  </tbody>\n</table>\n<p>248 rows × 2 columns</p>\n</div>"
     },
     "execution_count": 20,
     "metadata": {},
     "output_type": "execute_result"
    }
   ],
   "source": [
    "data2 = data.groupby(\"Author\", as_index=False)\\\n",
    " .agg(number_of_book = ('Author', 'count'))\\\n",
    " .sort_values('number_of_book')\n",
    "\n",
    "data2"
   ]
  },
  {
   "cell_type": "markdown",
   "id": "fc9836b7",
   "metadata": {},
   "source": [
    "###### Який автор має найбільше книг? Скільки книг?"
   ]
  },
  {
   "cell_type": "code",
   "execution_count": 21,
   "id": "cea3e721",
   "metadata": {
    "ExecuteTime": {
     "end_time": "2023-10-28T20:06:24.458483Z",
     "start_time": "2023-10-28T20:06:23.214523Z"
    }
   },
   "outputs": [
    {
     "data": {
      "text/plain": "          author  number_of_book\n120  Jeff Kinney              12",
      "text/html": "<div>\n<style scoped>\n    .dataframe tbody tr th:only-of-type {\n        vertical-align: middle;\n    }\n\n    .dataframe tbody tr th {\n        vertical-align: top;\n    }\n\n    .dataframe thead th {\n        text-align: right;\n    }\n</style>\n<table border=\"1\" class=\"dataframe\">\n  <thead>\n    <tr style=\"text-align: right;\">\n      <th></th>\n      <th>author</th>\n      <th>number_of_book</th>\n    </tr>\n  </thead>\n  <tbody>\n    <tr>\n      <th>120</th>\n      <td>Jeff Kinney</td>\n      <td>12</td>\n    </tr>\n  </tbody>\n</table>\n</div>"
     },
     "execution_count": 21,
     "metadata": {},
     "output_type": "execute_result"
    }
   ],
   "source": [
    "data2[data2.number_of_book == data2.number_of_book.max()]"
   ]
  },
  {
   "cell_type": "markdown",
   "id": "23a57b4c",
   "metadata": {},
   "source": [
    "### Тепер створіть другий датафрейм, який буде вміщати середній рейтинг для кожного автора (використовуйте функції groupby та agg, для підрахунку середнього значення використовуйте mean). Не беріть усі стовпці, виберете тільки потрібні"
   ]
  },
  {
   "cell_type": "code",
   "execution_count": 22,
   "id": "4666bfc8",
   "metadata": {
    "ExecuteTime": {
     "end_time": "2023-10-28T20:06:24.459857Z",
     "start_time": "2023-10-28T20:06:23.230069Z"
    }
   },
   "outputs": [
    {
     "data": {
      "text/plain": "                    author  avg_rating\n71             Donna Tartt         3.9\n90                  Gallup         4.0\n171         Muriel Barbery         4.0\n100          Gillian Flynn         4.0\n109      Ian K. Smith M.D.         4.1\n..                     ...         ...\n183             Pete Souza         4.9\n8           Alice Schertle         4.9\n178         Patrick Thorpe         4.9\n173         Nathan W. Pyle         4.9\n82   Emily Winfield Martin         4.9\n\n[248 rows x 2 columns]",
      "text/html": "<div>\n<style scoped>\n    .dataframe tbody tr th:only-of-type {\n        vertical-align: middle;\n    }\n\n    .dataframe tbody tr th {\n        vertical-align: top;\n    }\n\n    .dataframe thead th {\n        text-align: right;\n    }\n</style>\n<table border=\"1\" class=\"dataframe\">\n  <thead>\n    <tr style=\"text-align: right;\">\n      <th></th>\n      <th>author</th>\n      <th>avg_rating</th>\n    </tr>\n  </thead>\n  <tbody>\n    <tr>\n      <th>71</th>\n      <td>Donna Tartt</td>\n      <td>3.9</td>\n    </tr>\n    <tr>\n      <th>90</th>\n      <td>Gallup</td>\n      <td>4.0</td>\n    </tr>\n    <tr>\n      <th>171</th>\n      <td>Muriel Barbery</td>\n      <td>4.0</td>\n    </tr>\n    <tr>\n      <th>100</th>\n      <td>Gillian Flynn</td>\n      <td>4.0</td>\n    </tr>\n    <tr>\n      <th>109</th>\n      <td>Ian K. Smith M.D.</td>\n      <td>4.1</td>\n    </tr>\n    <tr>\n      <th>...</th>\n      <td>...</td>\n      <td>...</td>\n    </tr>\n    <tr>\n      <th>183</th>\n      <td>Pete Souza</td>\n      <td>4.9</td>\n    </tr>\n    <tr>\n      <th>8</th>\n      <td>Alice Schertle</td>\n      <td>4.9</td>\n    </tr>\n    <tr>\n      <th>178</th>\n      <td>Patrick Thorpe</td>\n      <td>4.9</td>\n    </tr>\n    <tr>\n      <th>173</th>\n      <td>Nathan W. Pyle</td>\n      <td>4.9</td>\n    </tr>\n    <tr>\n      <th>82</th>\n      <td>Emily Winfield Martin</td>\n      <td>4.9</td>\n    </tr>\n  </tbody>\n</table>\n<p>248 rows × 2 columns</p>\n</div>"
     },
     "execution_count": 22,
     "metadata": {},
     "output_type": "execute_result"
    }
   ],
   "source": [
    "data3= data.groupby(\"Author\", as_index=False)\\\n",
    "    .agg(avg_rating = (\"User Rating\", \"mean\"))\\\n",
    "    .sort_values(\"avg_rating\")\n",
    "data3"
   ]
  },
  {
   "cell_type": "markdown",
   "id": "1988fd1a",
   "metadata": {},
   "source": [
    "####  У якого автора середній рейтинг мінімальний? Який у цього автора середній рейтинг?"
   ]
  },
  {
   "cell_type": "code",
   "execution_count": 23,
   "id": "ae1ddd51",
   "metadata": {
    "ExecuteTime": {
     "end_time": "2023-10-28T20:06:24.460424Z",
     "start_time": "2023-10-28T20:06:23.244692Z"
    }
   },
   "outputs": [
    {
     "data": {
      "text/plain": "         author  avg_rating\n71  Donna Tartt         3.9",
      "text/html": "<div>\n<style scoped>\n    .dataframe tbody tr th:only-of-type {\n        vertical-align: middle;\n    }\n\n    .dataframe tbody tr th {\n        vertical-align: top;\n    }\n\n    .dataframe thead th {\n        text-align: right;\n    }\n</style>\n<table border=\"1\" class=\"dataframe\">\n  <thead>\n    <tr style=\"text-align: right;\">\n      <th></th>\n      <th>author</th>\n      <th>avg_rating</th>\n    </tr>\n  </thead>\n  <tbody>\n    <tr>\n      <th>71</th>\n      <td>Donna Tartt</td>\n      <td>3.9</td>\n    </tr>\n  </tbody>\n</table>\n</div>"
     },
     "execution_count": 23,
     "metadata": {},
     "output_type": "execute_result"
    }
   ],
   "source": [
    "data3[data3.avg_rating == data3.avg_rating.min()]"
   ]
  },
  {
   "cell_type": "markdown",
   "id": "bcde6302",
   "metadata": {},
   "source": [
    "### З'єднайте останні два датафрейми так, щоб для кожного автора було видно кількість книг та середній рейтинг (Використовуйте функцію concat з параметром axis=1). Збережіть результат у змінну"
   ]
  },
  {
   "cell_type": "code",
   "execution_count": 24,
   "id": "7c7e2ac7",
   "metadata": {
    "ExecuteTime": {
     "end_time": "2023-10-28T20:06:24.461103Z",
     "start_time": "2023-10-28T20:06:23.259445Z"
    }
   },
   "outputs": [
    {
     "data": {
      "text/plain": "                                 author  number_of_book  avg_rating\n135                         Julia Child               1    4.800000\n1                        Adam Gasiewski               1    4.400000\n2                         Adam Mansbach               1    4.800000\n3                             Adir Levy               1    4.800000\n4            Admiral William H. McRaven               1    4.700000\n..                                  ...             ...         ...\n11   American Psychological Association              10    4.500000\n197                        Rick Riordan              11    4.772727\n92                         Gary Chapman              11    4.736364\n226                     Suzanne Collins              11    4.663636\n120                         Jeff Kinney              12    4.800000\n\n[248 rows x 3 columns]",
      "text/html": "<div>\n<style scoped>\n    .dataframe tbody tr th:only-of-type {\n        vertical-align: middle;\n    }\n\n    .dataframe tbody tr th {\n        vertical-align: top;\n    }\n\n    .dataframe thead th {\n        text-align: right;\n    }\n</style>\n<table border=\"1\" class=\"dataframe\">\n  <thead>\n    <tr style=\"text-align: right;\">\n      <th></th>\n      <th>author</th>\n      <th>number_of_book</th>\n      <th>avg_rating</th>\n    </tr>\n  </thead>\n  <tbody>\n    <tr>\n      <th>135</th>\n      <td>Julia Child</td>\n      <td>1</td>\n      <td>4.800000</td>\n    </tr>\n    <tr>\n      <th>1</th>\n      <td>Adam Gasiewski</td>\n      <td>1</td>\n      <td>4.400000</td>\n    </tr>\n    <tr>\n      <th>2</th>\n      <td>Adam Mansbach</td>\n      <td>1</td>\n      <td>4.800000</td>\n    </tr>\n    <tr>\n      <th>3</th>\n      <td>Adir Levy</td>\n      <td>1</td>\n      <td>4.800000</td>\n    </tr>\n    <tr>\n      <th>4</th>\n      <td>Admiral William H. McRaven</td>\n      <td>1</td>\n      <td>4.700000</td>\n    </tr>\n    <tr>\n      <th>...</th>\n      <td>...</td>\n      <td>...</td>\n      <td>...</td>\n    </tr>\n    <tr>\n      <th>11</th>\n      <td>American Psychological Association</td>\n      <td>10</td>\n      <td>4.500000</td>\n    </tr>\n    <tr>\n      <th>197</th>\n      <td>Rick Riordan</td>\n      <td>11</td>\n      <td>4.772727</td>\n    </tr>\n    <tr>\n      <th>92</th>\n      <td>Gary Chapman</td>\n      <td>11</td>\n      <td>4.736364</td>\n    </tr>\n    <tr>\n      <th>226</th>\n      <td>Suzanne Collins</td>\n      <td>11</td>\n      <td>4.663636</td>\n    </tr>\n    <tr>\n      <th>120</th>\n      <td>Jeff Kinney</td>\n      <td>12</td>\n      <td>4.800000</td>\n    </tr>\n  </tbody>\n</table>\n<p>248 rows × 3 columns</p>\n</div>"
     },
     "execution_count": 24,
     "metadata": {},
     "output_type": "execute_result"
    }
   ],
   "source": [
    "data_m = pd.concat([data2, data3.avg_rating], axis=1)\n",
    "data_m"
   ]
  },
  {
   "cell_type": "markdown",
   "id": "65c9d955",
   "metadata": {},
   "source": [
    "### Відсортуйте датафрейм за зростаючою кількістю книг та зростаючим рейтингом (використовуйте функцію sort_values)"
   ]
  },
  {
   "cell_type": "code",
   "execution_count": 25,
   "id": "236aacbd",
   "metadata": {
    "ExecuteTime": {
     "end_time": "2023-10-28T20:06:24.470315Z",
     "start_time": "2023-10-28T20:06:23.266939Z"
    }
   },
   "outputs": [
    {
     "data": {
      "text/plain": "                                 author  number_of_book  avg_rating\n120                         Jeff Kinney              12    4.800000\n197                        Rick Riordan              11    4.772727\n92                         Gary Chapman              11    4.736364\n226                     Suzanne Collins              11    4.663636\n11   American Psychological Association              10    4.500000\n..                                  ...             ...         ...\n159                          Mark Twain               1    4.200000\n43                         Chris Cleave               1    4.100000\n186                        Pierre Dukan               1    4.100000\n109                   Ian K. Smith M.D.               1    4.100000\n171                      Muriel Barbery               1    4.000000\n\n[248 rows x 3 columns]",
      "text/html": "<div>\n<style scoped>\n    .dataframe tbody tr th:only-of-type {\n        vertical-align: middle;\n    }\n\n    .dataframe tbody tr th {\n        vertical-align: top;\n    }\n\n    .dataframe thead th {\n        text-align: right;\n    }\n</style>\n<table border=\"1\" class=\"dataframe\">\n  <thead>\n    <tr style=\"text-align: right;\">\n      <th></th>\n      <th>author</th>\n      <th>number_of_book</th>\n      <th>avg_rating</th>\n    </tr>\n  </thead>\n  <tbody>\n    <tr>\n      <th>120</th>\n      <td>Jeff Kinney</td>\n      <td>12</td>\n      <td>4.800000</td>\n    </tr>\n    <tr>\n      <th>197</th>\n      <td>Rick Riordan</td>\n      <td>11</td>\n      <td>4.772727</td>\n    </tr>\n    <tr>\n      <th>92</th>\n      <td>Gary Chapman</td>\n      <td>11</td>\n      <td>4.736364</td>\n    </tr>\n    <tr>\n      <th>226</th>\n      <td>Suzanne Collins</td>\n      <td>11</td>\n      <td>4.663636</td>\n    </tr>\n    <tr>\n      <th>11</th>\n      <td>American Psychological Association</td>\n      <td>10</td>\n      <td>4.500000</td>\n    </tr>\n    <tr>\n      <th>...</th>\n      <td>...</td>\n      <td>...</td>\n      <td>...</td>\n    </tr>\n    <tr>\n      <th>159</th>\n      <td>Mark Twain</td>\n      <td>1</td>\n      <td>4.200000</td>\n    </tr>\n    <tr>\n      <th>43</th>\n      <td>Chris Cleave</td>\n      <td>1</td>\n      <td>4.100000</td>\n    </tr>\n    <tr>\n      <th>186</th>\n      <td>Pierre Dukan</td>\n      <td>1</td>\n      <td>4.100000</td>\n    </tr>\n    <tr>\n      <th>109</th>\n      <td>Ian K. Smith M.D.</td>\n      <td>1</td>\n      <td>4.100000</td>\n    </tr>\n    <tr>\n      <th>171</th>\n      <td>Muriel Barbery</td>\n      <td>1</td>\n      <td>4.000000</td>\n    </tr>\n  </tbody>\n</table>\n<p>248 rows × 3 columns</p>\n</div>"
     },
     "execution_count": 25,
     "metadata": {},
     "output_type": "execute_result"
    }
   ],
   "source": [
    "data_m.sort_values(['number_of_book', 'avg_rating'], ascending=False, inplace=True)\n",
    "data_m"
   ]
  },
  {
   "cell_type": "markdown",
   "id": "e99e486a",
   "metadata": {},
   "source": [
    "# Графік "
   ]
  },
  {
   "cell_type": "code",
   "execution_count": 26,
   "id": "282cf3fd",
   "metadata": {
    "ExecuteTime": {
     "end_time": "2023-10-28T20:06:24.473002Z",
     "start_time": "2023-10-28T20:06:23.277963Z"
    }
   },
   "outputs": [
    {
     "data": {
      "text/plain": "<Figure size 640x480 with 1 Axes>",
      "image/png": "[encoded data removed]"
     },
     "metadata": {},
     "output_type": "display_data"
    }
   ],
   "source": [
    "fiction_data = data[data['Genre'] == 'Fiction']\n",
    "nonfiction_data = data[data['Genre'] == 'Non Fiction']\n",
    "\n",
    "fiction_ratings_by_year = fiction_data.groupby('Year')['User Rating'].mean()\n",
    "nonfiction_ratings_by_year = nonfiction_data.groupby('Year')['User Rating'].mean()\n",
    "\n",
    "plt.plot(fiction_ratings_by_year.index, fiction_ratings_by_year.values, label='Fiction')\n",
    "plt.plot(nonfiction_ratings_by_year.index, nonfiction_ratings_by_year.values, label='Non Fiction')\n",
    "plt.xlabel('Year')\n",
    "plt.ylabel('Average Rating')\n",
    "plt.title('Average Book Ratings by Genre and Year')\n",
    "plt.legend()\n",
    "plt.show()"
   ]
  },
  {
   "cell_type": "code",
   "execution_count": 27,
   "id": "a7f4306a",
   "metadata": {
    "ExecuteTime": {
     "end_time": "2023-10-28T20:06:25.081949Z",
     "start_time": "2023-10-28T20:06:23.570852Z"
    }
   },
   "outputs": [
    {
     "data": {
      "text/plain": "<Figure size 640x480 with 1 Axes>",
      "image/png": "[encoded data removed]"
     },
     "metadata": {},
     "output_type": "display_data"
    }
   ],
   "source": [
    "reviews_by_year = data.groupby('Year')['Reviews'].sum()\n",
    "\n",
    "plt.bar(reviews_by_year.index, reviews_by_year.values)\n",
    "plt.xlabel('Year')\n",
    "plt.ylabel('Total Reviews')\n",
    "plt.title('Total Reviews of Books by Year')\n",
    "plt.show()"
   ]
  },
  {
   "cell_type": "code",
   "execution_count": 28,
   "id": "b522ea2c",
   "metadata": {
    "ExecuteTime": {
     "end_time": "2023-10-28T20:06:25.088815Z",
     "start_time": "2023-10-28T20:06:23.901591Z"
    }
   },
   "outputs": [
    {
     "data": {
      "text/plain": "<Figure size 640x480 with 1 Axes>",
      "image/png": "[encoded data removed]"
     },
     "metadata": {},
     "output_type": "display_data"
    }
   ],
   "source": [
    "genre_counts = data['Genre'].value_counts()\n",
    "\n",
    "plt.pie(genre_counts.values, labels=genre_counts.index, autopct='%1.1f%%')\n",
    "plt.title('Genre Distribution of Books')\n",
    "plt.axis('equal')\n",
    "plt.show()"
   ]
  },
  {
   "cell_type": "code",
   "execution_count": 28,
   "outputs": [],
   "source": [],
   "metadata": {
    "collapsed": false,
    "ExecuteTime": {
     "end_time": "2023-10-28T20:06:25.089210Z",
     "start_time": "2023-10-28T20:06:24.035784Z"
    }
   },
   "id": "7fb8e2bb093a3fc5"
  }
 ],
 "metadata": {
  "kernelspec": {
   "display_name": "Python 3 (ipykernel)",
   "language": "python",
   "name": "python3"
  },
  "language_info": {
   "codemirror_mode": {
    "name": "ipython",
    "version": 3
   },
   "file_extension": ".py",
   "mimetype": "text/x-python",
   "name": "python",
   "nbconvert_exporter": "python",
   "pygments_lexer": "ipython3",
   "version": "3.9.7"
  }
 },
 "nbformat": 4,
 "nbformat_minor": 5
}
