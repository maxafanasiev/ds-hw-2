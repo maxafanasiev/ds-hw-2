{
 "cells": [
  {
   "cell_type": "markdown",
   "source": [
    "# Домашнє завдання 2.1"
   ],
   "metadata": {
    "collapsed": false
   },
   "id": "c4c89f5d4992c558"
  },
  {
   "cell_type": "code",
   "execution_count": 1,
   "outputs": [],
   "source": [
    "import pandas as pd\n",
    "import numpy as np\n",
    "import matplotlib.pyplot as plt\n",
    "%matplotlib inline"
   ],
   "metadata": {
    "collapsed": false,
    "ExecuteTime": {
     "end_time": "2023-10-28T22:30:35.066777Z",
     "start_time": "2023-10-28T22:30:35.045277Z"
    }
   },
   "id": "e3ee0e99a18b9efd"
  },
  {
   "cell_type": "markdown",
   "source": [
    "## Частина перша: Знайомство з Pandas."
   ],
   "metadata": {
    "collapsed": false
   },
   "id": "c3ff5fbd0871f031"
  },
  {
   "cell_type": "markdown",
   "source": [
    "### Вивести перші рядки таблиці за допомогою методу head"
   ],
   "metadata": {
    "collapsed": false
   },
   "id": "6ce83eb2682c121f"
  },
  {
   "cell_type": "code",
   "execution_count": 2,
   "outputs": [
    {
     "data": {
      "text/plain": "             Регіон  1950  1960  1970  1990  2000  2012  2014  2019\n0              Крим  23.0  20.6  16.0  13.0   7.3  12.6     —     —\n1         Вінницька  22.4  19.2  14.2  12.4   8.4  11.2  10.9   7.6\n2         Волинська  24.7  25.0  17.9  15.3  11.2  14.8  14.1  10.1\n3  Дніпропетровська  20.4  20.4  15.1  12.3   7.1  11.2  11.1   7.1\n4          Донецька  27.1  21.4  14.0  10.9   6.1   9.8   8.2     —",
      "text/html": "<div>\n<style scoped>\n    .dataframe tbody tr th:only-of-type {\n        vertical-align: middle;\n    }\n\n    .dataframe tbody tr th {\n        vertical-align: top;\n    }\n\n    .dataframe thead th {\n        text-align: right;\n    }\n</style>\n<table border=\"1\" class=\"dataframe\">\n  <thead>\n    <tr style=\"text-align: right;\">\n      <th></th>\n      <th>Регіон</th>\n      <th>1950</th>\n      <th>1960</th>\n      <th>1970</th>\n      <th>1990</th>\n      <th>2000</th>\n      <th>2012</th>\n      <th>2014</th>\n      <th>2019</th>\n    </tr>\n  </thead>\n  <tbody>\n    <tr>\n      <th>0</th>\n      <td>Крим</td>\n      <td>23.0</td>\n      <td>20.6</td>\n      <td>16.0</td>\n      <td>13.0</td>\n      <td>7.3</td>\n      <td>12.6</td>\n      <td>—</td>\n      <td>—</td>\n    </tr>\n    <tr>\n      <th>1</th>\n      <td>Вінницька</td>\n      <td>22.4</td>\n      <td>19.2</td>\n      <td>14.2</td>\n      <td>12.4</td>\n      <td>8.4</td>\n      <td>11.2</td>\n      <td>10.9</td>\n      <td>7.6</td>\n    </tr>\n    <tr>\n      <th>2</th>\n      <td>Волинська</td>\n      <td>24.7</td>\n      <td>25.0</td>\n      <td>17.9</td>\n      <td>15.3</td>\n      <td>11.2</td>\n      <td>14.8</td>\n      <td>14.1</td>\n      <td>10.1</td>\n    </tr>\n    <tr>\n      <th>3</th>\n      <td>Дніпропетровська</td>\n      <td>20.4</td>\n      <td>20.4</td>\n      <td>15.1</td>\n      <td>12.3</td>\n      <td>7.1</td>\n      <td>11.2</td>\n      <td>11.1</td>\n      <td>7.1</td>\n    </tr>\n    <tr>\n      <th>4</th>\n      <td>Донецька</td>\n      <td>27.1</td>\n      <td>21.4</td>\n      <td>14.0</td>\n      <td>10.9</td>\n      <td>6.1</td>\n      <td>9.8</td>\n      <td>8.2</td>\n      <td>—</td>\n    </tr>\n  </tbody>\n</table>\n</div>"
     },
     "execution_count": 2,
     "metadata": {},
     "output_type": "execute_result"
    }
   ],
   "source": [
    "url = \"https://uk.wikipedia.org/wiki/%D0%9D%D0%B0%D1%81%D0%B5%D0%BB%D0%B5%D0%BD%D0%BD%D1%8F_%D0%A3%D0%BA%D1%80%D0%B0%D1%97%D0%BD%D0%B8#%D0%9D%D0%B0%D1%80%D0%BE%D0%B4%D0%B6%D1%83%D0%B2%D0%B0%D0%BD%D1%96%D1%81%D1%82%D1%8C\"\n",
    "\n",
    "all_tables = pd.read_html(url,\n",
    "                          thousands=\"\",\n",
    "                          decimal=\",\",\n",
    "                          match = \"Коефіцієнт народжуваності в регіонах України\",\n",
    "                    )\n",
    "main_table = pd.DataFrame(all_tables[0])\n",
    "main_table.head()"
   ],
   "metadata": {
    "collapsed": false,
    "ExecuteTime": {
     "end_time": "2023-10-28T22:30:35.888996Z",
     "start_time": "2023-10-28T22:30:35.068826Z"
    }
   },
   "id": "46a4d047293df8ee"
  },
  {
   "cell_type": "markdown",
   "source": [
    "### Визначте кількість рядків та стовпців у датафреймі (атрибут shape)"
   ],
   "metadata": {
    "collapsed": false
   },
   "id": "3c11d4fed8502535"
  },
  {
   "cell_type": "code",
   "execution_count": 3,
   "outputs": [
    {
     "data": {
      "text/plain": "(28, 9)"
     },
     "execution_count": 3,
     "metadata": {},
     "output_type": "execute_result"
    }
   ],
   "source": [
    "main_table.shape"
   ],
   "metadata": {
    "collapsed": false,
    "ExecuteTime": {
     "end_time": "2023-10-28T22:30:36.272401Z",
     "start_time": "2023-10-28T22:30:35.912815Z"
    }
   },
   "id": "82ee368cd5d0759e"
  },
  {
   "cell_type": "markdown",
   "source": [
    "### Замініть у таблиці значення \"—\" на значення NaN"
   ],
   "metadata": {
    "collapsed": false
   },
   "id": "d89b4c0e9c7be1b6"
  },
  {
   "cell_type": "code",
   "execution_count": 4,
   "outputs": [
    {
     "data": {
      "text/plain": "               Регіон  1950  1960  1970  1990  2000  2012  2014  2019\n0                Крим  23.0  20.6  16.0  13.0   7.3  12.6  <NA>  <NA>\n1           Вінницька  22.4  19.2  14.2  12.4   8.4  11.2  10.9   7.6\n2           Волинська  24.7  25.0  17.9  15.3  11.2  14.8  14.1  10.1\n3    Дніпропетровська  20.4  20.4  15.1  12.3   7.1  11.2  11.1   7.1\n4            Донецька  27.1  21.4  14.0  10.9   6.1   9.8   8.2  <NA>\n5         Житомирська  26.1  22.3  15.9  12.9   8.9  12.2  12.0   7.9\n6        Закарпатська  31.4  27.3  20.7  16.8  11.5  15.1  14.6  10.4\n7          Запорізька  21.9  19.7  15.0  12.4   7.1  10.6  10.6   6.8\n8   Івано-Франківська  24.3  24.8  18.2  15.5  10.3  12.4  12.2   8.8\n9            Київська  20.4  18.9  15.6  12.3   7.3  12.2  12.1   8.0\n10     Кіровоградська  21.6  17.1  14.5  12.6   7.9  11.0  10.8   6.8\n11          Луганська  26.2  23.5  14.4  11.6   6.2   9.6   5.1  <NA>\n12          Львівська  23.4  24.0  17.1  14.0   9.1  11.9  11.9   8.7\n13       Миколаївська  21.1  19.4  15.5  13.7   8.0  11.5  11.2   7.1\n14            Одеська  24.1  19.2  14.8  12.6   8.0  12.7  12.3   8.8\n15         Полтавська  18.6  16.3  13.1  11.8   7.0   9.9  10.0   6.5\n16         Рівненська  26.9  26.7  19.3  15.8  11.8  15.9  14.8  10.7\n17            Сумська  21.6  18.4  13.2  11.5   7.0   9.7   9.2   6.0\n18      Тернопільська  21.3  21.6  15.7  14.2   9.2  11.3  10.9   7.6\n19         Харківська  19.7  17.3  14.0  11.4   6.8   9.9  10.1   6.8\n20         Херсонська  20.8  21.4  16.6  14.3   8.5  11.7  11.5   8.1\n21        Хмельницька  23.4  19.8  14.8  12.9   8.5  11.3  11.2   7.9\n22          Черкаська  20.5  17.9  14.4  12.3   7.5  10.0   9.8   6.4\n23        Чернівецька  24.7  21.8  17.0  14.8  10.1  12.8  12.9   9.2\n24       Чернігівська  22.0  18.3  12.7  10.8   6.9   9.4   9.0   6.1\n25               Київ   NaN  17.4  15.9  12.0   7.3  12.0  12.1  11.0\n26        Севастополь   NaN   NaN   NaN  12.5   7.0  12.0  <NA>  <NA>\n27            Україна  22.8  20.5  15.2  12.6   7.8  11.4  11.1   8.1",
      "text/html": "<div>\n<style scoped>\n    .dataframe tbody tr th:only-of-type {\n        vertical-align: middle;\n    }\n\n    .dataframe tbody tr th {\n        vertical-align: top;\n    }\n\n    .dataframe thead th {\n        text-align: right;\n    }\n</style>\n<table border=\"1\" class=\"dataframe\">\n  <thead>\n    <tr style=\"text-align: right;\">\n      <th></th>\n      <th>Регіон</th>\n      <th>1950</th>\n      <th>1960</th>\n      <th>1970</th>\n      <th>1990</th>\n      <th>2000</th>\n      <th>2012</th>\n      <th>2014</th>\n      <th>2019</th>\n    </tr>\n  </thead>\n  <tbody>\n    <tr>\n      <th>0</th>\n      <td>Крим</td>\n      <td>23.0</td>\n      <td>20.6</td>\n      <td>16.0</td>\n      <td>13.0</td>\n      <td>7.3</td>\n      <td>12.6</td>\n      <td>&lt;NA&gt;</td>\n      <td>&lt;NA&gt;</td>\n    </tr>\n    <tr>\n      <th>1</th>\n      <td>Вінницька</td>\n      <td>22.4</td>\n      <td>19.2</td>\n      <td>14.2</td>\n      <td>12.4</td>\n      <td>8.4</td>\n      <td>11.2</td>\n      <td>10.9</td>\n      <td>7.6</td>\n    </tr>\n    <tr>\n      <th>2</th>\n      <td>Волинська</td>\n      <td>24.7</td>\n      <td>25.0</td>\n      <td>17.9</td>\n      <td>15.3</td>\n      <td>11.2</td>\n      <td>14.8</td>\n      <td>14.1</td>\n      <td>10.1</td>\n    </tr>\n    <tr>\n      <th>3</th>\n      <td>Дніпропетровська</td>\n      <td>20.4</td>\n      <td>20.4</td>\n      <td>15.1</td>\n      <td>12.3</td>\n      <td>7.1</td>\n      <td>11.2</td>\n      <td>11.1</td>\n      <td>7.1</td>\n    </tr>\n    <tr>\n      <th>4</th>\n      <td>Донецька</td>\n      <td>27.1</td>\n      <td>21.4</td>\n      <td>14.0</td>\n      <td>10.9</td>\n      <td>6.1</td>\n      <td>9.8</td>\n      <td>8.2</td>\n      <td>&lt;NA&gt;</td>\n    </tr>\n    <tr>\n      <th>5</th>\n      <td>Житомирська</td>\n      <td>26.1</td>\n      <td>22.3</td>\n      <td>15.9</td>\n      <td>12.9</td>\n      <td>8.9</td>\n      <td>12.2</td>\n      <td>12.0</td>\n      <td>7.9</td>\n    </tr>\n    <tr>\n      <th>6</th>\n      <td>Закарпатська</td>\n      <td>31.4</td>\n      <td>27.3</td>\n      <td>20.7</td>\n      <td>16.8</td>\n      <td>11.5</td>\n      <td>15.1</td>\n      <td>14.6</td>\n      <td>10.4</td>\n    </tr>\n    <tr>\n      <th>7</th>\n      <td>Запорізька</td>\n      <td>21.9</td>\n      <td>19.7</td>\n      <td>15.0</td>\n      <td>12.4</td>\n      <td>7.1</td>\n      <td>10.6</td>\n      <td>10.6</td>\n      <td>6.8</td>\n    </tr>\n    <tr>\n      <th>8</th>\n      <td>Івано-Франківська</td>\n      <td>24.3</td>\n      <td>24.8</td>\n      <td>18.2</td>\n      <td>15.5</td>\n      <td>10.3</td>\n      <td>12.4</td>\n      <td>12.2</td>\n      <td>8.8</td>\n    </tr>\n    <tr>\n      <th>9</th>\n      <td>Київська</td>\n      <td>20.4</td>\n      <td>18.9</td>\n      <td>15.6</td>\n      <td>12.3</td>\n      <td>7.3</td>\n      <td>12.2</td>\n      <td>12.1</td>\n      <td>8.0</td>\n    </tr>\n    <tr>\n      <th>10</th>\n      <td>Кіровоградська</td>\n      <td>21.6</td>\n      <td>17.1</td>\n      <td>14.5</td>\n      <td>12.6</td>\n      <td>7.9</td>\n      <td>11.0</td>\n      <td>10.8</td>\n      <td>6.8</td>\n    </tr>\n    <tr>\n      <th>11</th>\n      <td>Луганська</td>\n      <td>26.2</td>\n      <td>23.5</td>\n      <td>14.4</td>\n      <td>11.6</td>\n      <td>6.2</td>\n      <td>9.6</td>\n      <td>5.1</td>\n      <td>&lt;NA&gt;</td>\n    </tr>\n    <tr>\n      <th>12</th>\n      <td>Львівська</td>\n      <td>23.4</td>\n      <td>24.0</td>\n      <td>17.1</td>\n      <td>14.0</td>\n      <td>9.1</td>\n      <td>11.9</td>\n      <td>11.9</td>\n      <td>8.7</td>\n    </tr>\n    <tr>\n      <th>13</th>\n      <td>Миколаївська</td>\n      <td>21.1</td>\n      <td>19.4</td>\n      <td>15.5</td>\n      <td>13.7</td>\n      <td>8.0</td>\n      <td>11.5</td>\n      <td>11.2</td>\n      <td>7.1</td>\n    </tr>\n    <tr>\n      <th>14</th>\n      <td>Одеська</td>\n      <td>24.1</td>\n      <td>19.2</td>\n      <td>14.8</td>\n      <td>12.6</td>\n      <td>8.0</td>\n      <td>12.7</td>\n      <td>12.3</td>\n      <td>8.8</td>\n    </tr>\n    <tr>\n      <th>15</th>\n      <td>Полтавська</td>\n      <td>18.6</td>\n      <td>16.3</td>\n      <td>13.1</td>\n      <td>11.8</td>\n      <td>7.0</td>\n      <td>9.9</td>\n      <td>10.0</td>\n      <td>6.5</td>\n    </tr>\n    <tr>\n      <th>16</th>\n      <td>Рівненська</td>\n      <td>26.9</td>\n      <td>26.7</td>\n      <td>19.3</td>\n      <td>15.8</td>\n      <td>11.8</td>\n      <td>15.9</td>\n      <td>14.8</td>\n      <td>10.7</td>\n    </tr>\n    <tr>\n      <th>17</th>\n      <td>Сумська</td>\n      <td>21.6</td>\n      <td>18.4</td>\n      <td>13.2</td>\n      <td>11.5</td>\n      <td>7.0</td>\n      <td>9.7</td>\n      <td>9.2</td>\n      <td>6.0</td>\n    </tr>\n    <tr>\n      <th>18</th>\n      <td>Тернопільська</td>\n      <td>21.3</td>\n      <td>21.6</td>\n      <td>15.7</td>\n      <td>14.2</td>\n      <td>9.2</td>\n      <td>11.3</td>\n      <td>10.9</td>\n      <td>7.6</td>\n    </tr>\n    <tr>\n      <th>19</th>\n      <td>Харківська</td>\n      <td>19.7</td>\n      <td>17.3</td>\n      <td>14.0</td>\n      <td>11.4</td>\n      <td>6.8</td>\n      <td>9.9</td>\n      <td>10.1</td>\n      <td>6.8</td>\n    </tr>\n    <tr>\n      <th>20</th>\n      <td>Херсонська</td>\n      <td>20.8</td>\n      <td>21.4</td>\n      <td>16.6</td>\n      <td>14.3</td>\n      <td>8.5</td>\n      <td>11.7</td>\n      <td>11.5</td>\n      <td>8.1</td>\n    </tr>\n    <tr>\n      <th>21</th>\n      <td>Хмельницька</td>\n      <td>23.4</td>\n      <td>19.8</td>\n      <td>14.8</td>\n      <td>12.9</td>\n      <td>8.5</td>\n      <td>11.3</td>\n      <td>11.2</td>\n      <td>7.9</td>\n    </tr>\n    <tr>\n      <th>22</th>\n      <td>Черкаська</td>\n      <td>20.5</td>\n      <td>17.9</td>\n      <td>14.4</td>\n      <td>12.3</td>\n      <td>7.5</td>\n      <td>10.0</td>\n      <td>9.8</td>\n      <td>6.4</td>\n    </tr>\n    <tr>\n      <th>23</th>\n      <td>Чернівецька</td>\n      <td>24.7</td>\n      <td>21.8</td>\n      <td>17.0</td>\n      <td>14.8</td>\n      <td>10.1</td>\n      <td>12.8</td>\n      <td>12.9</td>\n      <td>9.2</td>\n    </tr>\n    <tr>\n      <th>24</th>\n      <td>Чернігівська</td>\n      <td>22.0</td>\n      <td>18.3</td>\n      <td>12.7</td>\n      <td>10.8</td>\n      <td>6.9</td>\n      <td>9.4</td>\n      <td>9.0</td>\n      <td>6.1</td>\n    </tr>\n    <tr>\n      <th>25</th>\n      <td>Київ</td>\n      <td>NaN</td>\n      <td>17.4</td>\n      <td>15.9</td>\n      <td>12.0</td>\n      <td>7.3</td>\n      <td>12.0</td>\n      <td>12.1</td>\n      <td>11.0</td>\n    </tr>\n    <tr>\n      <th>26</th>\n      <td>Севастополь</td>\n      <td>NaN</td>\n      <td>NaN</td>\n      <td>NaN</td>\n      <td>12.5</td>\n      <td>7.0</td>\n      <td>12.0</td>\n      <td>&lt;NA&gt;</td>\n      <td>&lt;NA&gt;</td>\n    </tr>\n    <tr>\n      <th>27</th>\n      <td>Україна</td>\n      <td>22.8</td>\n      <td>20.5</td>\n      <td>15.2</td>\n      <td>12.6</td>\n      <td>7.8</td>\n      <td>11.4</td>\n      <td>11.1</td>\n      <td>8.1</td>\n    </tr>\n  </tbody>\n</table>\n</div>"
     },
     "execution_count": 4,
     "metadata": {},
     "output_type": "execute_result"
    }
   ],
   "source": [
    "table_2 = main_table.copy()\n",
    "table_2.replace('—', pd.NA, inplace=True)\n",
    "table_2"
   ],
   "metadata": {
    "collapsed": false,
    "ExecuteTime": {
     "end_time": "2023-10-28T22:30:36.274620Z",
     "start_time": "2023-10-28T22:30:35.967587Z"
    }
   },
   "id": "5bebe8f40c9b29da"
  },
  {
   "cell_type": "markdown",
   "source": [
    "### Визначте типи всіх стовпців за допомогою dataframe.dtypes"
   ],
   "metadata": {
    "collapsed": false
   },
   "id": "fcbd9e23e96566e1"
  },
  {
   "cell_type": "code",
   "execution_count": 5,
   "outputs": [
    {
     "data": {
      "text/plain": "Регіон     object\n1950      float64\n1960      float64\n1970      float64\n1990      float64\n2000      float64\n2012      float64\n2014       object\n2019       object\ndtype: object"
     },
     "execution_count": 5,
     "metadata": {},
     "output_type": "execute_result"
    }
   ],
   "source": [
    "table_2.dtypes"
   ],
   "metadata": {
    "collapsed": false,
    "ExecuteTime": {
     "end_time": "2023-10-28T22:30:36.606392Z",
     "start_time": "2023-10-28T22:30:35.980145Z"
    }
   },
   "id": "30bae83027cb5265"
  },
  {
   "cell_type": "markdown",
   "source": [
    "### Замініть типи нечислових колонок на числові. Підказка - це колонки, де знаходився символ \"—\""
   ],
   "metadata": {
    "collapsed": false
   },
   "id": "4986b0d6e607b7ef"
  },
  {
   "cell_type": "code",
   "execution_count": 6,
   "outputs": [
    {
     "data": {
      "text/plain": "Регіон     object\n1950      float64\n1960      float64\n1970      float64\n1990      float64\n2000      float64\n2012      float64\n2014      float64\n2019      float64\ndtype: object"
     },
     "execution_count": 6,
     "metadata": {},
     "output_type": "execute_result"
    }
   ],
   "source": [
    "table_2 = table_2.replace(\"—\", np.nan)\n",
    "\n",
    "numeric_columns = table_2.select_dtypes(include=['object'])\n",
    "\n",
    "for column in numeric_columns.columns:\n",
    "    if column != 'Регіон':\n",
    "        table_2[column] = pd.to_numeric(table_2[column], errors='coerce')\n",
    "\n",
    "table_2.dtypes"
   ],
   "metadata": {
    "collapsed": false,
    "ExecuteTime": {
     "end_time": "2023-10-28T22:30:36.606869Z",
     "start_time": "2023-10-28T22:30:35.992139Z"
    }
   },
   "id": "eededf21317cbcce"
  },
  {
   "cell_type": "markdown",
   "source": [
    "### Порахуйте, яка частка пропусків міститься в кожній колонці (використовуйте методи isnull та sum)"
   ],
   "metadata": {
    "collapsed": false
   },
   "id": "b8536640fb4bf267"
  },
  {
   "cell_type": "code",
   "execution_count": 7,
   "outputs": [
    {
     "data": {
      "text/plain": "Регіон    0.000000\n1950      0.071429\n1960      0.035714\n1970      0.035714\n1990      0.000000\n2000      0.000000\n2012      0.000000\n2014      0.071429\n2019      0.142857\ndtype: float64"
     },
     "execution_count": 7,
     "metadata": {},
     "output_type": "execute_result"
    }
   ],
   "source": [
    "table_missed = table_2.isnull().sum(axis=0) / len(table_2)\n",
    "table_missed"
   ],
   "metadata": {
    "collapsed": false,
    "ExecuteTime": {
     "end_time": "2023-10-28T22:30:36.607207Z",
     "start_time": "2023-10-28T22:30:36.008872Z"
    }
   },
   "id": "1620f0e5923ff198"
  },
  {
   "cell_type": "markdown",
   "source": [
    "### Видаліть з таблиці дані по всій країні, останній рядок таблиці"
   ],
   "metadata": {
    "collapsed": false
   },
   "id": "e35a05009ea43183"
  },
  {
   "cell_type": "code",
   "execution_count": 8,
   "outputs": [
    {
     "data": {
      "text/plain": "               Регіон  1950  1960  1970  1990  2000  2012  2014  2019\n0                Крим  23.0  20.6  16.0  13.0   7.3  12.6   NaN   NaN\n1           Вінницька  22.4  19.2  14.2  12.4   8.4  11.2  10.9   7.6\n2           Волинська  24.7  25.0  17.9  15.3  11.2  14.8  14.1  10.1\n3    Дніпропетровська  20.4  20.4  15.1  12.3   7.1  11.2  11.1   7.1\n4            Донецька  27.1  21.4  14.0  10.9   6.1   9.8   8.2   NaN\n5         Житомирська  26.1  22.3  15.9  12.9   8.9  12.2  12.0   7.9\n6        Закарпатська  31.4  27.3  20.7  16.8  11.5  15.1  14.6  10.4\n7          Запорізька  21.9  19.7  15.0  12.4   7.1  10.6  10.6   6.8\n8   Івано-Франківська  24.3  24.8  18.2  15.5  10.3  12.4  12.2   8.8\n9            Київська  20.4  18.9  15.6  12.3   7.3  12.2  12.1   8.0\n10     Кіровоградська  21.6  17.1  14.5  12.6   7.9  11.0  10.8   6.8\n11          Луганська  26.2  23.5  14.4  11.6   6.2   9.6   5.1   NaN\n12          Львівська  23.4  24.0  17.1  14.0   9.1  11.9  11.9   8.7\n13       Миколаївська  21.1  19.4  15.5  13.7   8.0  11.5  11.2   7.1\n14            Одеська  24.1  19.2  14.8  12.6   8.0  12.7  12.3   8.8\n15         Полтавська  18.6  16.3  13.1  11.8   7.0   9.9  10.0   6.5\n16         Рівненська  26.9  26.7  19.3  15.8  11.8  15.9  14.8  10.7\n17            Сумська  21.6  18.4  13.2  11.5   7.0   9.7   9.2   6.0\n18      Тернопільська  21.3  21.6  15.7  14.2   9.2  11.3  10.9   7.6\n19         Харківська  19.7  17.3  14.0  11.4   6.8   9.9  10.1   6.8\n20         Херсонська  20.8  21.4  16.6  14.3   8.5  11.7  11.5   8.1\n21        Хмельницька  23.4  19.8  14.8  12.9   8.5  11.3  11.2   7.9\n22          Черкаська  20.5  17.9  14.4  12.3   7.5  10.0   9.8   6.4\n23        Чернівецька  24.7  21.8  17.0  14.8  10.1  12.8  12.9   9.2\n24       Чернігівська  22.0  18.3  12.7  10.8   6.9   9.4   9.0   6.1\n25               Київ   NaN  17.4  15.9  12.0   7.3  12.0  12.1  11.0\n26        Севастополь   NaN   NaN   NaN  12.5   7.0  12.0   NaN   NaN",
      "text/html": "<div>\n<style scoped>\n    .dataframe tbody tr th:only-of-type {\n        vertical-align: middle;\n    }\n\n    .dataframe tbody tr th {\n        vertical-align: top;\n    }\n\n    .dataframe thead th {\n        text-align: right;\n    }\n</style>\n<table border=\"1\" class=\"dataframe\">\n  <thead>\n    <tr style=\"text-align: right;\">\n      <th></th>\n      <th>Регіон</th>\n      <th>1950</th>\n      <th>1960</th>\n      <th>1970</th>\n      <th>1990</th>\n      <th>2000</th>\n      <th>2012</th>\n      <th>2014</th>\n      <th>2019</th>\n    </tr>\n  </thead>\n  <tbody>\n    <tr>\n      <th>0</th>\n      <td>Крим</td>\n      <td>23.0</td>\n      <td>20.6</td>\n      <td>16.0</td>\n      <td>13.0</td>\n      <td>7.3</td>\n      <td>12.6</td>\n      <td>NaN</td>\n      <td>NaN</td>\n    </tr>\n    <tr>\n      <th>1</th>\n      <td>Вінницька</td>\n      <td>22.4</td>\n      <td>19.2</td>\n      <td>14.2</td>\n      <td>12.4</td>\n      <td>8.4</td>\n      <td>11.2</td>\n      <td>10.9</td>\n      <td>7.6</td>\n    </tr>\n    <tr>\n      <th>2</th>\n      <td>Волинська</td>\n      <td>24.7</td>\n      <td>25.0</td>\n      <td>17.9</td>\n      <td>15.3</td>\n      <td>11.2</td>\n      <td>14.8</td>\n      <td>14.1</td>\n      <td>10.1</td>\n    </tr>\n    <tr>\n      <th>3</th>\n      <td>Дніпропетровська</td>\n      <td>20.4</td>\n      <td>20.4</td>\n      <td>15.1</td>\n      <td>12.3</td>\n      <td>7.1</td>\n      <td>11.2</td>\n      <td>11.1</td>\n      <td>7.1</td>\n    </tr>\n    <tr>\n      <th>4</th>\n      <td>Донецька</td>\n      <td>27.1</td>\n      <td>21.4</td>\n      <td>14.0</td>\n      <td>10.9</td>\n      <td>6.1</td>\n      <td>9.8</td>\n      <td>8.2</td>\n      <td>NaN</td>\n    </tr>\n    <tr>\n      <th>5</th>\n      <td>Житомирська</td>\n      <td>26.1</td>\n      <td>22.3</td>\n      <td>15.9</td>\n      <td>12.9</td>\n      <td>8.9</td>\n      <td>12.2</td>\n      <td>12.0</td>\n      <td>7.9</td>\n    </tr>\n    <tr>\n      <th>6</th>\n      <td>Закарпатська</td>\n      <td>31.4</td>\n      <td>27.3</td>\n      <td>20.7</td>\n      <td>16.8</td>\n      <td>11.5</td>\n      <td>15.1</td>\n      <td>14.6</td>\n      <td>10.4</td>\n    </tr>\n    <tr>\n      <th>7</th>\n      <td>Запорізька</td>\n      <td>21.9</td>\n      <td>19.7</td>\n      <td>15.0</td>\n      <td>12.4</td>\n      <td>7.1</td>\n      <td>10.6</td>\n      <td>10.6</td>\n      <td>6.8</td>\n    </tr>\n    <tr>\n      <th>8</th>\n      <td>Івано-Франківська</td>\n      <td>24.3</td>\n      <td>24.8</td>\n      <td>18.2</td>\n      <td>15.5</td>\n      <td>10.3</td>\n      <td>12.4</td>\n      <td>12.2</td>\n      <td>8.8</td>\n    </tr>\n    <tr>\n      <th>9</th>\n      <td>Київська</td>\n      <td>20.4</td>\n      <td>18.9</td>\n      <td>15.6</td>\n      <td>12.3</td>\n      <td>7.3</td>\n      <td>12.2</td>\n      <td>12.1</td>\n      <td>8.0</td>\n    </tr>\n    <tr>\n      <th>10</th>\n      <td>Кіровоградська</td>\n      <td>21.6</td>\n      <td>17.1</td>\n      <td>14.5</td>\n      <td>12.6</td>\n      <td>7.9</td>\n      <td>11.0</td>\n      <td>10.8</td>\n      <td>6.8</td>\n    </tr>\n    <tr>\n      <th>11</th>\n      <td>Луганська</td>\n      <td>26.2</td>\n      <td>23.5</td>\n      <td>14.4</td>\n      <td>11.6</td>\n      <td>6.2</td>\n      <td>9.6</td>\n      <td>5.1</td>\n      <td>NaN</td>\n    </tr>\n    <tr>\n      <th>12</th>\n      <td>Львівська</td>\n      <td>23.4</td>\n      <td>24.0</td>\n      <td>17.1</td>\n      <td>14.0</td>\n      <td>9.1</td>\n      <td>11.9</td>\n      <td>11.9</td>\n      <td>8.7</td>\n    </tr>\n    <tr>\n      <th>13</th>\n      <td>Миколаївська</td>\n      <td>21.1</td>\n      <td>19.4</td>\n      <td>15.5</td>\n      <td>13.7</td>\n      <td>8.0</td>\n      <td>11.5</td>\n      <td>11.2</td>\n      <td>7.1</td>\n    </tr>\n    <tr>\n      <th>14</th>\n      <td>Одеська</td>\n      <td>24.1</td>\n      <td>19.2</td>\n      <td>14.8</td>\n      <td>12.6</td>\n      <td>8.0</td>\n      <td>12.7</td>\n      <td>12.3</td>\n      <td>8.8</td>\n    </tr>\n    <tr>\n      <th>15</th>\n      <td>Полтавська</td>\n      <td>18.6</td>\n      <td>16.3</td>\n      <td>13.1</td>\n      <td>11.8</td>\n      <td>7.0</td>\n      <td>9.9</td>\n      <td>10.0</td>\n      <td>6.5</td>\n    </tr>\n    <tr>\n      <th>16</th>\n      <td>Рівненська</td>\n      <td>26.9</td>\n      <td>26.7</td>\n      <td>19.3</td>\n      <td>15.8</td>\n      <td>11.8</td>\n      <td>15.9</td>\n      <td>14.8</td>\n      <td>10.7</td>\n    </tr>\n    <tr>\n      <th>17</th>\n      <td>Сумська</td>\n      <td>21.6</td>\n      <td>18.4</td>\n      <td>13.2</td>\n      <td>11.5</td>\n      <td>7.0</td>\n      <td>9.7</td>\n      <td>9.2</td>\n      <td>6.0</td>\n    </tr>\n    <tr>\n      <th>18</th>\n      <td>Тернопільська</td>\n      <td>21.3</td>\n      <td>21.6</td>\n      <td>15.7</td>\n      <td>14.2</td>\n      <td>9.2</td>\n      <td>11.3</td>\n      <td>10.9</td>\n      <td>7.6</td>\n    </tr>\n    <tr>\n      <th>19</th>\n      <td>Харківська</td>\n      <td>19.7</td>\n      <td>17.3</td>\n      <td>14.0</td>\n      <td>11.4</td>\n      <td>6.8</td>\n      <td>9.9</td>\n      <td>10.1</td>\n      <td>6.8</td>\n    </tr>\n    <tr>\n      <th>20</th>\n      <td>Херсонська</td>\n      <td>20.8</td>\n      <td>21.4</td>\n      <td>16.6</td>\n      <td>14.3</td>\n      <td>8.5</td>\n      <td>11.7</td>\n      <td>11.5</td>\n      <td>8.1</td>\n    </tr>\n    <tr>\n      <th>21</th>\n      <td>Хмельницька</td>\n      <td>23.4</td>\n      <td>19.8</td>\n      <td>14.8</td>\n      <td>12.9</td>\n      <td>8.5</td>\n      <td>11.3</td>\n      <td>11.2</td>\n      <td>7.9</td>\n    </tr>\n    <tr>\n      <th>22</th>\n      <td>Черкаська</td>\n      <td>20.5</td>\n      <td>17.9</td>\n      <td>14.4</td>\n      <td>12.3</td>\n      <td>7.5</td>\n      <td>10.0</td>\n      <td>9.8</td>\n      <td>6.4</td>\n    </tr>\n    <tr>\n      <th>23</th>\n      <td>Чернівецька</td>\n      <td>24.7</td>\n      <td>21.8</td>\n      <td>17.0</td>\n      <td>14.8</td>\n      <td>10.1</td>\n      <td>12.8</td>\n      <td>12.9</td>\n      <td>9.2</td>\n    </tr>\n    <tr>\n      <th>24</th>\n      <td>Чернігівська</td>\n      <td>22.0</td>\n      <td>18.3</td>\n      <td>12.7</td>\n      <td>10.8</td>\n      <td>6.9</td>\n      <td>9.4</td>\n      <td>9.0</td>\n      <td>6.1</td>\n    </tr>\n    <tr>\n      <th>25</th>\n      <td>Київ</td>\n      <td>NaN</td>\n      <td>17.4</td>\n      <td>15.9</td>\n      <td>12.0</td>\n      <td>7.3</td>\n      <td>12.0</td>\n      <td>12.1</td>\n      <td>11.0</td>\n    </tr>\n    <tr>\n      <th>26</th>\n      <td>Севастополь</td>\n      <td>NaN</td>\n      <td>NaN</td>\n      <td>NaN</td>\n      <td>12.5</td>\n      <td>7.0</td>\n      <td>12.0</td>\n      <td>NaN</td>\n      <td>NaN</td>\n    </tr>\n  </tbody>\n</table>\n</div>"
     },
     "execution_count": 8,
     "metadata": {},
     "output_type": "execute_result"
    }
   ],
   "source": [
    "table_2 = table_2.drop(table_2.index[len(table_2)-1])\n",
    "table_2"
   ],
   "metadata": {
    "collapsed": false,
    "ExecuteTime": {
     "end_time": "2023-10-28T22:30:36.608532Z",
     "start_time": "2023-10-28T22:30:36.016593Z"
    }
   },
   "id": "9cf2eda28ab2d065"
  },
  {
   "cell_type": "markdown",
   "source": [
    "### Замініть відсутні дані в стовпцях середніми значеннями цих стовпців (метод fillna)"
   ],
   "metadata": {
    "collapsed": false
   },
   "id": "45eeb9f9fa544987"
  },
  {
   "cell_type": "code",
   "execution_count": 9,
   "outputs": [
    {
     "name": "stdout",
     "output_type": "stream",
     "text": [
      "1950    23.104000\n",
      "1960    20.757692\n",
      "1970    15.600000\n",
      "1990    13.059259\n",
      "2000     8.222222\n",
      "2012    11.655556\n",
      "2014    11.144000\n",
      "2019     8.017391\n",
      "dtype: float64\n"
     ]
    },
    {
     "data": {
      "text/plain": "               Регіон    1950       1960  1970  1990  2000  2012    2014  \\\n0                Крим  23.000  20.600000  16.0  13.0   7.3  12.6  11.144   \n1           Вінницька  22.400  19.200000  14.2  12.4   8.4  11.2  10.900   \n2           Волинська  24.700  25.000000  17.9  15.3  11.2  14.8  14.100   \n3    Дніпропетровська  20.400  20.400000  15.1  12.3   7.1  11.2  11.100   \n4            Донецька  27.100  21.400000  14.0  10.9   6.1   9.8   8.200   \n5         Житомирська  26.100  22.300000  15.9  12.9   8.9  12.2  12.000   \n6        Закарпатська  31.400  27.300000  20.7  16.8  11.5  15.1  14.600   \n7          Запорізька  21.900  19.700000  15.0  12.4   7.1  10.6  10.600   \n8   Івано-Франківська  24.300  24.800000  18.2  15.5  10.3  12.4  12.200   \n9            Київська  20.400  18.900000  15.6  12.3   7.3  12.2  12.100   \n10     Кіровоградська  21.600  17.100000  14.5  12.6   7.9  11.0  10.800   \n11          Луганська  26.200  23.500000  14.4  11.6   6.2   9.6   5.100   \n12          Львівська  23.400  24.000000  17.1  14.0   9.1  11.9  11.900   \n13       Миколаївська  21.100  19.400000  15.5  13.7   8.0  11.5  11.200   \n14            Одеська  24.100  19.200000  14.8  12.6   8.0  12.7  12.300   \n15         Полтавська  18.600  16.300000  13.1  11.8   7.0   9.9  10.000   \n16         Рівненська  26.900  26.700000  19.3  15.8  11.8  15.9  14.800   \n17            Сумська  21.600  18.400000  13.2  11.5   7.0   9.7   9.200   \n18      Тернопільська  21.300  21.600000  15.7  14.2   9.2  11.3  10.900   \n19         Харківська  19.700  17.300000  14.0  11.4   6.8   9.9  10.100   \n20         Херсонська  20.800  21.400000  16.6  14.3   8.5  11.7  11.500   \n21        Хмельницька  23.400  19.800000  14.8  12.9   8.5  11.3  11.200   \n22          Черкаська  20.500  17.900000  14.4  12.3   7.5  10.0   9.800   \n23        Чернівецька  24.700  21.800000  17.0  14.8  10.1  12.8  12.900   \n24       Чернігівська  22.000  18.300000  12.7  10.8   6.9   9.4   9.000   \n25               Київ  23.104  17.400000  15.9  12.0   7.3  12.0  12.100   \n26        Севастополь  23.104  20.757692  15.6  12.5   7.0  12.0  11.144   \n\n         2019  \n0    8.017391  \n1    7.600000  \n2   10.100000  \n3    7.100000  \n4    8.017391  \n5    7.900000  \n6   10.400000  \n7    6.800000  \n8    8.800000  \n9    8.000000  \n10   6.800000  \n11   8.017391  \n12   8.700000  \n13   7.100000  \n14   8.800000  \n15   6.500000  \n16  10.700000  \n17   6.000000  \n18   7.600000  \n19   6.800000  \n20   8.100000  \n21   7.900000  \n22   6.400000  \n23   9.200000  \n24   6.100000  \n25  11.000000  \n26   8.017391  ",
      "text/html": "<div>\n<style scoped>\n    .dataframe tbody tr th:only-of-type {\n        vertical-align: middle;\n    }\n\n    .dataframe tbody tr th {\n        vertical-align: top;\n    }\n\n    .dataframe thead th {\n        text-align: right;\n    }\n</style>\n<table border=\"1\" class=\"dataframe\">\n  <thead>\n    <tr style=\"text-align: right;\">\n      <th></th>\n      <th>Регіон</th>\n      <th>1950</th>\n      <th>1960</th>\n      <th>1970</th>\n      <th>1990</th>\n      <th>2000</th>\n      <th>2012</th>\n      <th>2014</th>\n      <th>2019</th>\n    </tr>\n  </thead>\n  <tbody>\n    <tr>\n      <th>0</th>\n      <td>Крим</td>\n      <td>23.000</td>\n      <td>20.600000</td>\n      <td>16.0</td>\n      <td>13.0</td>\n      <td>7.3</td>\n      <td>12.6</td>\n      <td>11.144</td>\n      <td>8.017391</td>\n    </tr>\n    <tr>\n      <th>1</th>\n      <td>Вінницька</td>\n      <td>22.400</td>\n      <td>19.200000</td>\n      <td>14.2</td>\n      <td>12.4</td>\n      <td>8.4</td>\n      <td>11.2</td>\n      <td>10.900</td>\n      <td>7.600000</td>\n    </tr>\n    <tr>\n      <th>2</th>\n      <td>Волинська</td>\n      <td>24.700</td>\n      <td>25.000000</td>\n      <td>17.9</td>\n      <td>15.3</td>\n      <td>11.2</td>\n      <td>14.8</td>\n      <td>14.100</td>\n      <td>10.100000</td>\n    </tr>\n    <tr>\n      <th>3</th>\n      <td>Дніпропетровська</td>\n      <td>20.400</td>\n      <td>20.400000</td>\n      <td>15.1</td>\n      <td>12.3</td>\n      <td>7.1</td>\n      <td>11.2</td>\n      <td>11.100</td>\n      <td>7.100000</td>\n    </tr>\n    <tr>\n      <th>4</th>\n      <td>Донецька</td>\n      <td>27.100</td>\n      <td>21.400000</td>\n      <td>14.0</td>\n      <td>10.9</td>\n      <td>6.1</td>\n      <td>9.8</td>\n      <td>8.200</td>\n      <td>8.017391</td>\n    </tr>\n    <tr>\n      <th>5</th>\n      <td>Житомирська</td>\n      <td>26.100</td>\n      <td>22.300000</td>\n      <td>15.9</td>\n      <td>12.9</td>\n      <td>8.9</td>\n      <td>12.2</td>\n      <td>12.000</td>\n      <td>7.900000</td>\n    </tr>\n    <tr>\n      <th>6</th>\n      <td>Закарпатська</td>\n      <td>31.400</td>\n      <td>27.300000</td>\n      <td>20.7</td>\n      <td>16.8</td>\n      <td>11.5</td>\n      <td>15.1</td>\n      <td>14.600</td>\n      <td>10.400000</td>\n    </tr>\n    <tr>\n      <th>7</th>\n      <td>Запорізька</td>\n      <td>21.900</td>\n      <td>19.700000</td>\n      <td>15.0</td>\n      <td>12.4</td>\n      <td>7.1</td>\n      <td>10.6</td>\n      <td>10.600</td>\n      <td>6.800000</td>\n    </tr>\n    <tr>\n      <th>8</th>\n      <td>Івано-Франківська</td>\n      <td>24.300</td>\n      <td>24.800000</td>\n      <td>18.2</td>\n      <td>15.5</td>\n      <td>10.3</td>\n      <td>12.4</td>\n      <td>12.200</td>\n      <td>8.800000</td>\n    </tr>\n    <tr>\n      <th>9</th>\n      <td>Київська</td>\n      <td>20.400</td>\n      <td>18.900000</td>\n      <td>15.6</td>\n      <td>12.3</td>\n      <td>7.3</td>\n      <td>12.2</td>\n      <td>12.100</td>\n      <td>8.000000</td>\n    </tr>\n    <tr>\n      <th>10</th>\n      <td>Кіровоградська</td>\n      <td>21.600</td>\n      <td>17.100000</td>\n      <td>14.5</td>\n      <td>12.6</td>\n      <td>7.9</td>\n      <td>11.0</td>\n      <td>10.800</td>\n      <td>6.800000</td>\n    </tr>\n    <tr>\n      <th>11</th>\n      <td>Луганська</td>\n      <td>26.200</td>\n      <td>23.500000</td>\n      <td>14.4</td>\n      <td>11.6</td>\n      <td>6.2</td>\n      <td>9.6</td>\n      <td>5.100</td>\n      <td>8.017391</td>\n    </tr>\n    <tr>\n      <th>12</th>\n      <td>Львівська</td>\n      <td>23.400</td>\n      <td>24.000000</td>\n      <td>17.1</td>\n      <td>14.0</td>\n      <td>9.1</td>\n      <td>11.9</td>\n      <td>11.900</td>\n      <td>8.700000</td>\n    </tr>\n    <tr>\n      <th>13</th>\n      <td>Миколаївська</td>\n      <td>21.100</td>\n      <td>19.400000</td>\n      <td>15.5</td>\n      <td>13.7</td>\n      <td>8.0</td>\n      <td>11.5</td>\n      <td>11.200</td>\n      <td>7.100000</td>\n    </tr>\n    <tr>\n      <th>14</th>\n      <td>Одеська</td>\n      <td>24.100</td>\n      <td>19.200000</td>\n      <td>14.8</td>\n      <td>12.6</td>\n      <td>8.0</td>\n      <td>12.7</td>\n      <td>12.300</td>\n      <td>8.800000</td>\n    </tr>\n    <tr>\n      <th>15</th>\n      <td>Полтавська</td>\n      <td>18.600</td>\n      <td>16.300000</td>\n      <td>13.1</td>\n      <td>11.8</td>\n      <td>7.0</td>\n      <td>9.9</td>\n      <td>10.000</td>\n      <td>6.500000</td>\n    </tr>\n    <tr>\n      <th>16</th>\n      <td>Рівненська</td>\n      <td>26.900</td>\n      <td>26.700000</td>\n      <td>19.3</td>\n      <td>15.8</td>\n      <td>11.8</td>\n      <td>15.9</td>\n      <td>14.800</td>\n      <td>10.700000</td>\n    </tr>\n    <tr>\n      <th>17</th>\n      <td>Сумська</td>\n      <td>21.600</td>\n      <td>18.400000</td>\n      <td>13.2</td>\n      <td>11.5</td>\n      <td>7.0</td>\n      <td>9.7</td>\n      <td>9.200</td>\n      <td>6.000000</td>\n    </tr>\n    <tr>\n      <th>18</th>\n      <td>Тернопільська</td>\n      <td>21.300</td>\n      <td>21.600000</td>\n      <td>15.7</td>\n      <td>14.2</td>\n      <td>9.2</td>\n      <td>11.3</td>\n      <td>10.900</td>\n      <td>7.600000</td>\n    </tr>\n    <tr>\n      <th>19</th>\n      <td>Харківська</td>\n      <td>19.700</td>\n      <td>17.300000</td>\n      <td>14.0</td>\n      <td>11.4</td>\n      <td>6.8</td>\n      <td>9.9</td>\n      <td>10.100</td>\n      <td>6.800000</td>\n    </tr>\n    <tr>\n      <th>20</th>\n      <td>Херсонська</td>\n      <td>20.800</td>\n      <td>21.400000</td>\n      <td>16.6</td>\n      <td>14.3</td>\n      <td>8.5</td>\n      <td>11.7</td>\n      <td>11.500</td>\n      <td>8.100000</td>\n    </tr>\n    <tr>\n      <th>21</th>\n      <td>Хмельницька</td>\n      <td>23.400</td>\n      <td>19.800000</td>\n      <td>14.8</td>\n      <td>12.9</td>\n      <td>8.5</td>\n      <td>11.3</td>\n      <td>11.200</td>\n      <td>7.900000</td>\n    </tr>\n    <tr>\n      <th>22</th>\n      <td>Черкаська</td>\n      <td>20.500</td>\n      <td>17.900000</td>\n      <td>14.4</td>\n      <td>12.3</td>\n      <td>7.5</td>\n      <td>10.0</td>\n      <td>9.800</td>\n      <td>6.400000</td>\n    </tr>\n    <tr>\n      <th>23</th>\n      <td>Чернівецька</td>\n      <td>24.700</td>\n      <td>21.800000</td>\n      <td>17.0</td>\n      <td>14.8</td>\n      <td>10.1</td>\n      <td>12.8</td>\n      <td>12.900</td>\n      <td>9.200000</td>\n    </tr>\n    <tr>\n      <th>24</th>\n      <td>Чернігівська</td>\n      <td>22.000</td>\n      <td>18.300000</td>\n      <td>12.7</td>\n      <td>10.8</td>\n      <td>6.9</td>\n      <td>9.4</td>\n      <td>9.000</td>\n      <td>6.100000</td>\n    </tr>\n    <tr>\n      <th>25</th>\n      <td>Київ</td>\n      <td>23.104</td>\n      <td>17.400000</td>\n      <td>15.9</td>\n      <td>12.0</td>\n      <td>7.3</td>\n      <td>12.0</td>\n      <td>12.100</td>\n      <td>11.000000</td>\n    </tr>\n    <tr>\n      <th>26</th>\n      <td>Севастополь</td>\n      <td>23.104</td>\n      <td>20.757692</td>\n      <td>15.6</td>\n      <td>12.5</td>\n      <td>7.0</td>\n      <td>12.0</td>\n      <td>11.144</td>\n      <td>8.017391</td>\n    </tr>\n  </tbody>\n</table>\n</div>"
     },
     "execution_count": 9,
     "metadata": {},
     "output_type": "execute_result"
    }
   ],
   "source": [
    "means = table_2.mean(axis=0, numeric_only=True)\n",
    "print(means)\n",
    "table_2 = table_2.fillna(means)\n",
    "table_2"
   ],
   "metadata": {
    "collapsed": false,
    "ExecuteTime": {
     "end_time": "2023-10-28T22:30:36.767444Z",
     "start_time": "2023-10-28T22:30:36.088136Z"
    }
   },
   "id": "a9909da77e42ef58"
  },
  {
   "cell_type": "markdown",
   "source": [
    "### Отримайте список регіонів, де рівень народжуваності у 2019 році був вищим за середній по Україні"
   ],
   "metadata": {
    "collapsed": false
   },
   "id": "1d2e9df78d33c91"
  },
  {
   "cell_type": "code",
   "execution_count": 10,
   "outputs": [
    {
     "name": "stdout",
     "output_type": "stream",
     "text": [
      "8.017391304347827\n"
     ]
    },
    {
     "data": {
      "text/plain": "               Регіон    1950  1960  1970  1990  2000  2012  2014  2019\n2           Волинська  24.700  25.0  17.9  15.3  11.2  14.8  14.1  10.1\n6        Закарпатська  31.400  27.3  20.7  16.8  11.5  15.1  14.6  10.4\n8   Івано-Франківська  24.300  24.8  18.2  15.5  10.3  12.4  12.2   8.8\n12          Львівська  23.400  24.0  17.1  14.0   9.1  11.9  11.9   8.7\n14            Одеська  24.100  19.2  14.8  12.6   8.0  12.7  12.3   8.8\n16         Рівненська  26.900  26.7  19.3  15.8  11.8  15.9  14.8  10.7\n20         Херсонська  20.800  21.4  16.6  14.3   8.5  11.7  11.5   8.1\n23        Чернівецька  24.700  21.8  17.0  14.8  10.1  12.8  12.9   9.2\n25               Київ  23.104  17.4  15.9  12.0   7.3  12.0  12.1  11.0",
      "text/html": "<div>\n<style scoped>\n    .dataframe tbody tr th:only-of-type {\n        vertical-align: middle;\n    }\n\n    .dataframe tbody tr th {\n        vertical-align: top;\n    }\n\n    .dataframe thead th {\n        text-align: right;\n    }\n</style>\n<table border=\"1\" class=\"dataframe\">\n  <thead>\n    <tr style=\"text-align: right;\">\n      <th></th>\n      <th>Регіон</th>\n      <th>1950</th>\n      <th>1960</th>\n      <th>1970</th>\n      <th>1990</th>\n      <th>2000</th>\n      <th>2012</th>\n      <th>2014</th>\n      <th>2019</th>\n    </tr>\n  </thead>\n  <tbody>\n    <tr>\n      <th>2</th>\n      <td>Волинська</td>\n      <td>24.700</td>\n      <td>25.0</td>\n      <td>17.9</td>\n      <td>15.3</td>\n      <td>11.2</td>\n      <td>14.8</td>\n      <td>14.1</td>\n      <td>10.1</td>\n    </tr>\n    <tr>\n      <th>6</th>\n      <td>Закарпатська</td>\n      <td>31.400</td>\n      <td>27.3</td>\n      <td>20.7</td>\n      <td>16.8</td>\n      <td>11.5</td>\n      <td>15.1</td>\n      <td>14.6</td>\n      <td>10.4</td>\n    </tr>\n    <tr>\n      <th>8</th>\n      <td>Івано-Франківська</td>\n      <td>24.300</td>\n      <td>24.8</td>\n      <td>18.2</td>\n      <td>15.5</td>\n      <td>10.3</td>\n      <td>12.4</td>\n      <td>12.2</td>\n      <td>8.8</td>\n    </tr>\n    <tr>\n      <th>12</th>\n      <td>Львівська</td>\n      <td>23.400</td>\n      <td>24.0</td>\n      <td>17.1</td>\n      <td>14.0</td>\n      <td>9.1</td>\n      <td>11.9</td>\n      <td>11.9</td>\n      <td>8.7</td>\n    </tr>\n    <tr>\n      <th>14</th>\n      <td>Одеська</td>\n      <td>24.100</td>\n      <td>19.2</td>\n      <td>14.8</td>\n      <td>12.6</td>\n      <td>8.0</td>\n      <td>12.7</td>\n      <td>12.3</td>\n      <td>8.8</td>\n    </tr>\n    <tr>\n      <th>16</th>\n      <td>Рівненська</td>\n      <td>26.900</td>\n      <td>26.7</td>\n      <td>19.3</td>\n      <td>15.8</td>\n      <td>11.8</td>\n      <td>15.9</td>\n      <td>14.8</td>\n      <td>10.7</td>\n    </tr>\n    <tr>\n      <th>20</th>\n      <td>Херсонська</td>\n      <td>20.800</td>\n      <td>21.4</td>\n      <td>16.6</td>\n      <td>14.3</td>\n      <td>8.5</td>\n      <td>11.7</td>\n      <td>11.5</td>\n      <td>8.1</td>\n    </tr>\n    <tr>\n      <th>23</th>\n      <td>Чернівецька</td>\n      <td>24.700</td>\n      <td>21.8</td>\n      <td>17.0</td>\n      <td>14.8</td>\n      <td>10.1</td>\n      <td>12.8</td>\n      <td>12.9</td>\n      <td>9.2</td>\n    </tr>\n    <tr>\n      <th>25</th>\n      <td>Київ</td>\n      <td>23.104</td>\n      <td>17.4</td>\n      <td>15.9</td>\n      <td>12.0</td>\n      <td>7.3</td>\n      <td>12.0</td>\n      <td>12.1</td>\n      <td>11.0</td>\n    </tr>\n  </tbody>\n</table>\n</div>"
     },
     "execution_count": 10,
     "metadata": {},
     "output_type": "execute_result"
    }
   ],
   "source": [
    "means2019 = table_2.mean(axis=0, numeric_only=True)['2019']\n",
    "print(means2019)\n",
    "table_2[table_2['2019'] > means2019]"
   ],
   "metadata": {
    "collapsed": false,
    "ExecuteTime": {
     "end_time": "2023-10-28T22:30:36.770126Z",
     "start_time": "2023-10-28T22:30:36.127264Z"
    }
   },
   "id": "8f1fcb8953f1164c"
  },
  {
   "cell_type": "markdown",
   "source": [
    "### У якому регіоні була найвища народжуваність у 2014 році?"
   ],
   "metadata": {
    "collapsed": false
   },
   "id": "b1503702f03eab7b"
  },
  {
   "cell_type": "code",
   "execution_count": 11,
   "outputs": [
    {
     "data": {
      "text/plain": "        Регіон  1950  1960  1970  1990  2000  2012  2014  2019\n16  Рівненська  26.9  26.7  19.3  15.8  11.8  15.9  14.8  10.7",
      "text/html": "<div>\n<style scoped>\n    .dataframe tbody tr th:only-of-type {\n        vertical-align: middle;\n    }\n\n    .dataframe tbody tr th {\n        vertical-align: top;\n    }\n\n    .dataframe thead th {\n        text-align: right;\n    }\n</style>\n<table border=\"1\" class=\"dataframe\">\n  <thead>\n    <tr style=\"text-align: right;\">\n      <th></th>\n      <th>Регіон</th>\n      <th>1950</th>\n      <th>1960</th>\n      <th>1970</th>\n      <th>1990</th>\n      <th>2000</th>\n      <th>2012</th>\n      <th>2014</th>\n      <th>2019</th>\n    </tr>\n  </thead>\n  <tbody>\n    <tr>\n      <th>16</th>\n      <td>Рівненська</td>\n      <td>26.9</td>\n      <td>26.7</td>\n      <td>19.3</td>\n      <td>15.8</td>\n      <td>11.8</td>\n      <td>15.9</td>\n      <td>14.8</td>\n      <td>10.7</td>\n    </tr>\n  </tbody>\n</table>\n</div>"
     },
     "execution_count": 11,
     "metadata": {},
     "output_type": "execute_result"
    }
   ],
   "source": [
    "\n",
    "table_2[table_2['2014'] == table_2['2014'].max()]"
   ],
   "metadata": {
    "collapsed": false,
    "ExecuteTime": {
     "end_time": "2023-10-28T22:30:36.814075Z",
     "start_time": "2023-10-28T22:30:36.140833Z"
    }
   },
   "id": "78aa1496ed145d71"
  },
  {
   "cell_type": "markdown",
   "source": [
    "### Побудуйте стовпчикову діаграму народжуваності по регіонах у 2019 році"
   ],
   "metadata": {
    "collapsed": false
   },
   "id": "caf2b60ede37e7ee"
  },
  {
   "cell_type": "code",
   "execution_count": 12,
   "outputs": [
    {
     "data": {
      "text/plain": "<Figure size 640x480 with 1 Axes>",
      "image/png": "[encoded data removed]"
     },
     "metadata": {},
     "output_type": "display_data"
    }
   ],
   "source": [
    "plt.bar(table_2['Регіон'],table_2['2019'], color='g')\n",
    "plt.xticks(rotation=90)\n",
    "plt.ylabel('Коеф. народжуваності')\n",
    "plt.show()"
   ],
   "metadata": {
    "collapsed": false,
    "ExecuteTime": {
     "end_time": "2023-10-28T22:30:37.290398Z",
     "start_time": "2023-10-28T22:30:36.157806Z"
    }
   },
   "id": "736897b1a7c97dfd"
  }
 ],
 "metadata": {
  "kernelspec": {
   "display_name": "Python 3",
   "language": "python",
   "name": "python3"
  },
  "language_info": {
   "codemirror_mode": {
    "name": "ipython",
    "version": 2
   },
   "file_extension": ".py",
   "mimetype": "text/x-python",
   "name": "python",
   "nbconvert_exporter": "python",
   "pygments_lexer": "ipython2",
   "version": "2.7.6"
  }
 },
 "nbformat": 4,
 "nbformat_minor": 5
}
